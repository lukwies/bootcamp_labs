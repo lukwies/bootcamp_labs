{
 "cells": [
  {
   "cell_type": "markdown",
   "id": "44e1a3d6",
   "metadata": {},
   "source": [
    "\n",
    "# Lab | Cleaning categorical data\n",
    "\n",
    "For this lab, we will be using the dataset in the Customer Analysis Business Case. This dataset can be found in `files_for_lab` folder. In this lab we will explore categorical data.\n",
    "\n",
    "\n"
   ]
  },
  {
   "cell_type": "markdown",
   "id": "7af38b01",
   "metadata": {},
   "source": [
    "#### 1. Import the necessary libraries if you are starting a new notebook. Using the same data as the previous lab: we_fn_use_c_marketing_customer_value_analysis.csv"
   ]
  },
  {
   "cell_type": "code",
   "execution_count": 1,
   "id": "28e07385",
   "metadata": {},
   "outputs": [],
   "source": [
    "import pandas as pd\n",
    "import numpy as np"
   ]
  },
  {
   "cell_type": "code",
   "execution_count": 2,
   "id": "2149ecff",
   "metadata": {},
   "outputs": [
    {
     "data": {
      "text/html": [
       "<div>\n",
       "<style scoped>\n",
       "    .dataframe tbody tr th:only-of-type {\n",
       "        vertical-align: middle;\n",
       "    }\n",
       "\n",
       "    .dataframe tbody tr th {\n",
       "        vertical-align: top;\n",
       "    }\n",
       "\n",
       "    .dataframe thead th {\n",
       "        text-align: right;\n",
       "    }\n",
       "</style>\n",
       "<table border=\"1\" class=\"dataframe\">\n",
       "  <thead>\n",
       "    <tr style=\"text-align: right;\">\n",
       "      <th></th>\n",
       "      <th>Customer</th>\n",
       "      <th>State</th>\n",
       "      <th>Customer Lifetime Value</th>\n",
       "      <th>Response</th>\n",
       "      <th>Coverage</th>\n",
       "      <th>Education</th>\n",
       "      <th>Effective To Date</th>\n",
       "      <th>EmploymentStatus</th>\n",
       "      <th>Gender</th>\n",
       "      <th>Income</th>\n",
       "      <th>...</th>\n",
       "      <th>Months Since Policy Inception</th>\n",
       "      <th>Number of Open Complaints</th>\n",
       "      <th>Number of Policies</th>\n",
       "      <th>Policy Type</th>\n",
       "      <th>Policy</th>\n",
       "      <th>Renew Offer Type</th>\n",
       "      <th>Sales Channel</th>\n",
       "      <th>Total Claim Amount</th>\n",
       "      <th>Vehicle Class</th>\n",
       "      <th>Vehicle Size</th>\n",
       "    </tr>\n",
       "  </thead>\n",
       "  <tbody>\n",
       "    <tr>\n",
       "      <th>0</th>\n",
       "      <td>BU79786</td>\n",
       "      <td>Washington</td>\n",
       "      <td>2763.519279</td>\n",
       "      <td>No</td>\n",
       "      <td>Basic</td>\n",
       "      <td>Bachelor</td>\n",
       "      <td>2/24/11</td>\n",
       "      <td>Employed</td>\n",
       "      <td>F</td>\n",
       "      <td>56274</td>\n",
       "      <td>...</td>\n",
       "      <td>5</td>\n",
       "      <td>0</td>\n",
       "      <td>1</td>\n",
       "      <td>Corporate Auto</td>\n",
       "      <td>Corporate L3</td>\n",
       "      <td>Offer1</td>\n",
       "      <td>Agent</td>\n",
       "      <td>384.811147</td>\n",
       "      <td>Two-Door Car</td>\n",
       "      <td>Medsize</td>\n",
       "    </tr>\n",
       "    <tr>\n",
       "      <th>1</th>\n",
       "      <td>QZ44356</td>\n",
       "      <td>Arizona</td>\n",
       "      <td>6979.535903</td>\n",
       "      <td>No</td>\n",
       "      <td>Extended</td>\n",
       "      <td>Bachelor</td>\n",
       "      <td>1/31/11</td>\n",
       "      <td>Unemployed</td>\n",
       "      <td>F</td>\n",
       "      <td>0</td>\n",
       "      <td>...</td>\n",
       "      <td>42</td>\n",
       "      <td>0</td>\n",
       "      <td>8</td>\n",
       "      <td>Personal Auto</td>\n",
       "      <td>Personal L3</td>\n",
       "      <td>Offer3</td>\n",
       "      <td>Agent</td>\n",
       "      <td>1131.464935</td>\n",
       "      <td>Four-Door Car</td>\n",
       "      <td>Medsize</td>\n",
       "    </tr>\n",
       "    <tr>\n",
       "      <th>2</th>\n",
       "      <td>AI49188</td>\n",
       "      <td>Nevada</td>\n",
       "      <td>12887.431650</td>\n",
       "      <td>No</td>\n",
       "      <td>Premium</td>\n",
       "      <td>Bachelor</td>\n",
       "      <td>2/19/11</td>\n",
       "      <td>Employed</td>\n",
       "      <td>F</td>\n",
       "      <td>48767</td>\n",
       "      <td>...</td>\n",
       "      <td>38</td>\n",
       "      <td>0</td>\n",
       "      <td>2</td>\n",
       "      <td>Personal Auto</td>\n",
       "      <td>Personal L3</td>\n",
       "      <td>Offer1</td>\n",
       "      <td>Agent</td>\n",
       "      <td>566.472247</td>\n",
       "      <td>Two-Door Car</td>\n",
       "      <td>Medsize</td>\n",
       "    </tr>\n",
       "    <tr>\n",
       "      <th>3</th>\n",
       "      <td>WW63253</td>\n",
       "      <td>California</td>\n",
       "      <td>7645.861827</td>\n",
       "      <td>No</td>\n",
       "      <td>Basic</td>\n",
       "      <td>Bachelor</td>\n",
       "      <td>1/20/11</td>\n",
       "      <td>Unemployed</td>\n",
       "      <td>M</td>\n",
       "      <td>0</td>\n",
       "      <td>...</td>\n",
       "      <td>65</td>\n",
       "      <td>0</td>\n",
       "      <td>7</td>\n",
       "      <td>Corporate Auto</td>\n",
       "      <td>Corporate L2</td>\n",
       "      <td>Offer1</td>\n",
       "      <td>Call Center</td>\n",
       "      <td>529.881344</td>\n",
       "      <td>SUV</td>\n",
       "      <td>Medsize</td>\n",
       "    </tr>\n",
       "    <tr>\n",
       "      <th>4</th>\n",
       "      <td>HB64268</td>\n",
       "      <td>Washington</td>\n",
       "      <td>2813.692575</td>\n",
       "      <td>No</td>\n",
       "      <td>Basic</td>\n",
       "      <td>Bachelor</td>\n",
       "      <td>2/3/11</td>\n",
       "      <td>Employed</td>\n",
       "      <td>M</td>\n",
       "      <td>43836</td>\n",
       "      <td>...</td>\n",
       "      <td>44</td>\n",
       "      <td>0</td>\n",
       "      <td>1</td>\n",
       "      <td>Personal Auto</td>\n",
       "      <td>Personal L1</td>\n",
       "      <td>Offer1</td>\n",
       "      <td>Agent</td>\n",
       "      <td>138.130879</td>\n",
       "      <td>Four-Door Car</td>\n",
       "      <td>Medsize</td>\n",
       "    </tr>\n",
       "  </tbody>\n",
       "</table>\n",
       "<p>5 rows × 24 columns</p>\n",
       "</div>"
      ],
      "text/plain": [
       "  Customer       State  Customer Lifetime Value Response  Coverage Education  \\\n",
       "0  BU79786  Washington              2763.519279       No     Basic  Bachelor   \n",
       "1  QZ44356     Arizona              6979.535903       No  Extended  Bachelor   \n",
       "2  AI49188      Nevada             12887.431650       No   Premium  Bachelor   \n",
       "3  WW63253  California              7645.861827       No     Basic  Bachelor   \n",
       "4  HB64268  Washington              2813.692575       No     Basic  Bachelor   \n",
       "\n",
       "  Effective To Date EmploymentStatus Gender  Income  ...  \\\n",
       "0           2/24/11         Employed      F   56274  ...   \n",
       "1           1/31/11       Unemployed      F       0  ...   \n",
       "2           2/19/11         Employed      F   48767  ...   \n",
       "3           1/20/11       Unemployed      M       0  ...   \n",
       "4            2/3/11         Employed      M   43836  ...   \n",
       "\n",
       "  Months Since Policy Inception Number of Open Complaints  Number of Policies  \\\n",
       "0                             5                         0                   1   \n",
       "1                            42                         0                   8   \n",
       "2                            38                         0                   2   \n",
       "3                            65                         0                   7   \n",
       "4                            44                         0                   1   \n",
       "\n",
       "      Policy Type        Policy  Renew Offer Type  Sales Channel  \\\n",
       "0  Corporate Auto  Corporate L3            Offer1          Agent   \n",
       "1   Personal Auto   Personal L3            Offer3          Agent   \n",
       "2   Personal Auto   Personal L3            Offer1          Agent   \n",
       "3  Corporate Auto  Corporate L2            Offer1    Call Center   \n",
       "4   Personal Auto   Personal L1            Offer1          Agent   \n",
       "\n",
       "  Total Claim Amount  Vehicle Class Vehicle Size  \n",
       "0         384.811147   Two-Door Car      Medsize  \n",
       "1        1131.464935  Four-Door Car      Medsize  \n",
       "2         566.472247   Two-Door Car      Medsize  \n",
       "3         529.881344            SUV      Medsize  \n",
       "4         138.130879  Four-Door Car      Medsize  \n",
       "\n",
       "[5 rows x 24 columns]"
      ]
     },
     "execution_count": 2,
     "metadata": {},
     "output_type": "execute_result"
    }
   ],
   "source": [
    "customer_df = pd.read_csv('files_for_lab/we_fn_use_c_marketing_customer_value_analysis.csv')\n",
    "customer_df.head()"
   ]
  },
  {
   "cell_type": "markdown",
   "id": "ef834ca2",
   "metadata": {},
   "source": [
    "#### 2. Find  all of the categorical data.  Save it in a categorical_df variable."
   ]
  },
  {
   "cell_type": "code",
   "execution_count": 3,
   "id": "16e07861",
   "metadata": {},
   "outputs": [
    {
     "data": {
      "text/plain": [
       "(9134, 16)"
      ]
     },
     "execution_count": 3,
     "metadata": {},
     "output_type": "execute_result"
    }
   ],
   "source": [
    "categorical_df = customer_df.select_dtypes(object)\n",
    "categorical_df.shape"
   ]
  },
  {
   "cell_type": "markdown",
   "id": "24afbe6a",
   "metadata": {},
   "source": [
    "#### 3. Check for NaN values."
   ]
  },
  {
   "cell_type": "code",
   "execution_count": 4,
   "id": "574f6aa1",
   "metadata": {},
   "outputs": [
    {
     "data": {
      "text/plain": [
       "Customer             0\n",
       "State                0\n",
       "Response             0\n",
       "Coverage             0\n",
       "Education            0\n",
       "Effective To Date    0\n",
       "EmploymentStatus     0\n",
       "Gender               0\n",
       "Location Code        0\n",
       "Marital Status       0\n",
       "Policy Type          0\n",
       "Policy               0\n",
       "Renew Offer Type     0\n",
       "Sales Channel        0\n",
       "Vehicle Class        0\n",
       "Vehicle Size         0\n",
       "dtype: int64"
      ]
     },
     "execution_count": 4,
     "metadata": {},
     "output_type": "execute_result"
    }
   ],
   "source": [
    "categorical_df.isna().sum()"
   ]
  },
  {
   "cell_type": "markdown",
   "id": "36863a2d",
   "metadata": {},
   "source": [
    "#### 4. Check all unique values of columns."
   ]
  },
  {
   "cell_type": "code",
   "execution_count": 5,
   "id": "d6df8e30",
   "metadata": {
    "scrolled": false
   },
   "outputs": [
    {
     "name": "stdout",
     "output_type": "stream",
     "text": [
      "Column: Customer\n"
     ]
    },
    {
     "data": {
      "text/plain": [
       "BU79786    1\n",
       "PU81096    1\n",
       "CO75086    1\n",
       "WW52683    1\n",
       "XO38850    1\n",
       "          ..\n",
       "HS14476    1\n",
       "YL91587    1\n",
       "CT18212    1\n",
       "EW35231    1\n",
       "Y167826    1\n",
       "Name: Customer, Length: 9134, dtype: int64"
      ]
     },
     "metadata": {},
     "output_type": "display_data"
    },
    {
     "name": "stdout",
     "output_type": "stream",
     "text": [
      "\n",
      "Column: State\n"
     ]
    },
    {
     "data": {
      "text/plain": [
       "California    3150\n",
       "Oregon        2601\n",
       "Arizona       1703\n",
       "Nevada         882\n",
       "Washington     798\n",
       "Name: State, dtype: int64"
      ]
     },
     "metadata": {},
     "output_type": "display_data"
    },
    {
     "name": "stdout",
     "output_type": "stream",
     "text": [
      "\n",
      "Column: Response\n"
     ]
    },
    {
     "data": {
      "text/plain": [
       "No     7826\n",
       "Yes    1308\n",
       "Name: Response, dtype: int64"
      ]
     },
     "metadata": {},
     "output_type": "display_data"
    },
    {
     "name": "stdout",
     "output_type": "stream",
     "text": [
      "\n",
      "Column: Coverage\n"
     ]
    },
    {
     "data": {
      "text/plain": [
       "Basic       5568\n",
       "Extended    2742\n",
       "Premium      824\n",
       "Name: Coverage, dtype: int64"
      ]
     },
     "metadata": {},
     "output_type": "display_data"
    },
    {
     "name": "stdout",
     "output_type": "stream",
     "text": [
      "\n",
      "Column: Education\n"
     ]
    },
    {
     "data": {
      "text/plain": [
       "Bachelor                2748\n",
       "College                 2681\n",
       "High School or Below    2622\n",
       "Master                   741\n",
       "Doctor                   342\n",
       "Name: Education, dtype: int64"
      ]
     },
     "metadata": {},
     "output_type": "display_data"
    },
    {
     "name": "stdout",
     "output_type": "stream",
     "text": [
      "\n",
      "Column: Effective To Date\n"
     ]
    },
    {
     "data": {
      "text/plain": [
       "1/10/11    195\n",
       "1/27/11    194\n",
       "2/14/11    186\n",
       "1/26/11    181\n",
       "1/17/11    180\n",
       "1/19/11    179\n",
       "1/31/11    178\n",
       "1/3/11     178\n",
       "1/20/11    173\n",
       "2/26/11    169\n",
       "1/28/11    169\n",
       "2/19/11    168\n",
       "1/5/11     167\n",
       "2/27/11    167\n",
       "1/11/11    166\n",
       "2/4/11     164\n",
       "2/10/11    161\n",
       "2/28/11    161\n",
       "1/2/11     160\n",
       "1/21/11    160\n",
       "1/29/11    160\n",
       "2/22/11    158\n",
       "2/5/11     158\n",
       "2/3/11     158\n",
       "2/7/11     157\n",
       "2/12/11    156\n",
       "1/23/11    155\n",
       "2/1/11     154\n",
       "1/18/11    154\n",
       "1/15/11    153\n",
       "1/14/11    152\n",
       "2/11/11    151\n",
       "1/7/11     151\n",
       "1/25/11    151\n",
       "2/25/11    149\n",
       "1/8/11     149\n",
       "2/18/11    149\n",
       "2/2/11     149\n",
       "1/1/11     148\n",
       "2/21/11    148\n",
       "1/24/11    147\n",
       "1/9/11     146\n",
       "1/30/11    145\n",
       "1/13/11    145\n",
       "2/6/11     144\n",
       "1/6/11     143\n",
       "2/23/11    143\n",
       "1/16/11    142\n",
       "2/16/11    139\n",
       "2/13/11    139\n",
       "2/24/11    139\n",
       "2/9/11     137\n",
       "2/17/11    136\n",
       "1/22/11    136\n",
       "2/8/11     134\n",
       "2/20/11    132\n",
       "2/15/11    130\n",
       "1/12/11    126\n",
       "1/4/11     115\n",
       "Name: Effective To Date, dtype: int64"
      ]
     },
     "metadata": {},
     "output_type": "display_data"
    },
    {
     "name": "stdout",
     "output_type": "stream",
     "text": [
      "\n",
      "Column: EmploymentStatus\n"
     ]
    },
    {
     "data": {
      "text/plain": [
       "Employed         5698\n",
       "Unemployed       2317\n",
       "Medical Leave     432\n",
       "Disabled          405\n",
       "Retired           282\n",
       "Name: EmploymentStatus, dtype: int64"
      ]
     },
     "metadata": {},
     "output_type": "display_data"
    },
    {
     "name": "stdout",
     "output_type": "stream",
     "text": [
      "\n",
      "Column: Gender\n"
     ]
    },
    {
     "data": {
      "text/plain": [
       "F    4658\n",
       "M    4476\n",
       "Name: Gender, dtype: int64"
      ]
     },
     "metadata": {},
     "output_type": "display_data"
    },
    {
     "name": "stdout",
     "output_type": "stream",
     "text": [
      "\n",
      "Column: Location Code\n"
     ]
    },
    {
     "data": {
      "text/plain": [
       "Suburban    5779\n",
       "Rural       1773\n",
       "Urban       1582\n",
       "Name: Location Code, dtype: int64"
      ]
     },
     "metadata": {},
     "output_type": "display_data"
    },
    {
     "name": "stdout",
     "output_type": "stream",
     "text": [
      "\n",
      "Column: Marital Status\n"
     ]
    },
    {
     "data": {
      "text/plain": [
       "Married     5298\n",
       "Single      2467\n",
       "Divorced    1369\n",
       "Name: Marital Status, dtype: int64"
      ]
     },
     "metadata": {},
     "output_type": "display_data"
    },
    {
     "name": "stdout",
     "output_type": "stream",
     "text": [
      "\n",
      "Column: Policy Type\n"
     ]
    },
    {
     "data": {
      "text/plain": [
       "Personal Auto     6788\n",
       "Corporate Auto    1968\n",
       "Special Auto       378\n",
       "Name: Policy Type, dtype: int64"
      ]
     },
     "metadata": {},
     "output_type": "display_data"
    },
    {
     "name": "stdout",
     "output_type": "stream",
     "text": [
      "\n",
      "Column: Policy\n"
     ]
    },
    {
     "data": {
      "text/plain": [
       "Personal L3     3426\n",
       "Personal L2     2122\n",
       "Personal L1     1240\n",
       "Corporate L3    1014\n",
       "Corporate L2     595\n",
       "Corporate L1     359\n",
       "Special L2       164\n",
       "Special L3       148\n",
       "Special L1        66\n",
       "Name: Policy, dtype: int64"
      ]
     },
     "metadata": {},
     "output_type": "display_data"
    },
    {
     "name": "stdout",
     "output_type": "stream",
     "text": [
      "\n",
      "Column: Renew Offer Type\n"
     ]
    },
    {
     "data": {
      "text/plain": [
       "Offer1    3752\n",
       "Offer2    2926\n",
       "Offer3    1432\n",
       "Offer4    1024\n",
       "Name: Renew Offer Type, dtype: int64"
      ]
     },
     "metadata": {},
     "output_type": "display_data"
    },
    {
     "name": "stdout",
     "output_type": "stream",
     "text": [
      "\n",
      "Column: Sales Channel\n"
     ]
    },
    {
     "data": {
      "text/plain": [
       "Agent          3477\n",
       "Branch         2567\n",
       "Call Center    1765\n",
       "Web            1325\n",
       "Name: Sales Channel, dtype: int64"
      ]
     },
     "metadata": {},
     "output_type": "display_data"
    },
    {
     "name": "stdout",
     "output_type": "stream",
     "text": [
      "\n",
      "Column: Vehicle Class\n"
     ]
    },
    {
     "data": {
      "text/plain": [
       "Four-Door Car    4621\n",
       "Two-Door Car     1886\n",
       "SUV              1796\n",
       "Sports Car        484\n",
       "Luxury SUV        184\n",
       "Luxury Car        163\n",
       "Name: Vehicle Class, dtype: int64"
      ]
     },
     "metadata": {},
     "output_type": "display_data"
    },
    {
     "name": "stdout",
     "output_type": "stream",
     "text": [
      "\n",
      "Column: Vehicle Size\n"
     ]
    },
    {
     "data": {
      "text/plain": [
       "Medsize    6424\n",
       "Small      1764\n",
       "Large       946\n",
       "Name: Vehicle Size, dtype: int64"
      ]
     },
     "metadata": {},
     "output_type": "display_data"
    },
    {
     "name": "stdout",
     "output_type": "stream",
     "text": [
      "\n"
     ]
    }
   ],
   "source": [
    "for col in categorical_df.columns:\n",
    "    print(f\"Column: {col}\")\n",
    "    display(categorical_df[col].value_counts(dropna=False))\n",
    "    print()"
   ]
  },
  {
   "cell_type": "markdown",
   "id": "3175d53d",
   "metadata": {},
   "source": [
    "#### 5. Check dtypes. Do they all make sense as categorical data?\n"
   ]
  },
  {
   "cell_type": "code",
   "execution_count": 6,
   "id": "ac1e4285",
   "metadata": {
    "scrolled": false
   },
   "outputs": [
    {
     "data": {
      "text/plain": [
       "Customer             object\n",
       "State                object\n",
       "Response             object\n",
       "Coverage             object\n",
       "Education            object\n",
       "Effective To Date    object\n",
       "EmploymentStatus     object\n",
       "Gender               object\n",
       "Location Code        object\n",
       "Marital Status       object\n",
       "Policy Type          object\n",
       "Policy               object\n",
       "Renew Offer Type     object\n",
       "Sales Channel        object\n",
       "Vehicle Class        object\n",
       "Vehicle Size         object\n",
       "dtype: object"
      ]
     },
     "execution_count": 6,
     "metadata": {},
     "output_type": "execute_result"
    }
   ],
   "source": [
    "categorical_df.dtypes"
   ]
  },
  {
   "cell_type": "markdown",
   "id": "eae4501f",
   "metadata": {},
   "source": [
    "So the column 'Effective To Date' doesn't make sense as categorical, so I convert it to datetime and remove it from **categorical_df**.\n"
   ]
  },
  {
   "cell_type": "code",
   "execution_count": 7,
   "id": "d5a11007",
   "metadata": {},
   "outputs": [],
   "source": [
    "customer_df['Effective To Date'] = pd.to_datetime(customer_df['Effective To Date'], infer_datetime_format=True)\n",
    "categorical_df = customer_df.select_dtypes(object)"
   ]
  },
  {
   "cell_type": "markdown",
   "id": "fa8cd951",
   "metadata": {},
   "source": [
    "#### 6. Does any column contain alpha and numeric data?  Decide how to clean it."
   ]
  },
  {
   "cell_type": "markdown",
   "id": "b7917983",
   "metadata": {},
   "source": [
    "The column 'Customer' contains alphanumeric values, but these are ID's and since that column will be dropped (respectivly used as row labels) we don't care for it anyway."
   ]
  },
  {
   "cell_type": "markdown",
   "id": "0b850df4",
   "metadata": {},
   "source": [
    "#### 7. Would you choose to do anything else to clean or wrangle the categorical data?  Comment your decisions."
   ]
  },
  {
   "cell_type": "markdown",
   "id": "1aa341a3",
   "metadata": {},
   "source": [
    "The column 'Renew Offer Type' contains the values 'Offer 1', 'Offer 2', 'Offer 3' and 'Offer 4'. We can replace these values to 1-4 and convert the column type to integer. Since we're just looking on categoricals, I just drop it..."
   ]
  },
  {
   "cell_type": "code",
   "execution_count": 8,
   "id": "b9005137",
   "metadata": {},
   "outputs": [],
   "source": [
    "categorical_df.drop(['Renew Offer Type'], axis=1, inplace=True)"
   ]
  },
  {
   "cell_type": "markdown",
   "id": "394f7578",
   "metadata": {},
   "source": [
    "#### 8. Compare policy_type and policy.  What information is contained in these columns.  Can you identify what is important?"
   ]
  },
  {
   "cell_type": "markdown",
   "id": "af3cc901",
   "metadata": {},
   "source": [
    "Since the value for 'Policy Type' is already included in the 'Policy' column, I will convert the 'Policy' column to\n",
    "numerical. Then I'll drop it from categorical"
   ]
  },
  {
   "cell_type": "code",
   "execution_count": 9,
   "id": "1a12b256",
   "metadata": {
    "scrolled": false
   },
   "outputs": [],
   "source": [
    "def adjust_policy(value):\n",
    "    '''\n",
    "    Replace '... L1' to 1, '... L2' to 2 and '... L3' to 3\n",
    "    Input -> value  Value of column 'Policy'\n",
    "    Output -> 1, 2 or 3\n",
    "    '''\n",
    "    if value.find('L1') != -1:\n",
    "        return 1\n",
    "    elif value.find('L2') != -1:\n",
    "        return 2\n",
    "    else:\n",
    "        return 3\n",
    "\n",
    "# Add new numerical column named 'Policy Liability'\n",
    "customer_df['Policy Liability'] = categorical_df['Policy'].apply(adjust_policy)\n",
    "categorical_df = categorical_df.drop(['Policy'], axis=1)"
   ]
  },
  {
   "cell_type": "markdown",
   "id": "9ec67960",
   "metadata": {},
   "source": [
    "#### 9. Check number of unique values in each column, can they be combined in any way to ease encoding?  Comment your thoughts and make those changes."
   ]
  },
  {
   "cell_type": "markdown",
   "id": "7129267a",
   "metadata": {},
   "source": [
    "For column 'State' we will merge values 'Nevada' and 'Washington' to 'Other'."
   ]
  },
  {
   "cell_type": "code",
   "execution_count": 10,
   "id": "3128ae74",
   "metadata": {},
   "outputs": [],
   "source": [
    "categorical_df['State'] = categorical_df['State'].replace({'Nevada':'Other', 'Washington':'Other'})"
   ]
  },
  {
   "cell_type": "markdown",
   "id": "daecd573",
   "metadata": {},
   "source": [
    "For column 'Coverage' we will add all 'Premium' values to 'Extended'."
   ]
  },
  {
   "cell_type": "code",
   "execution_count": 11,
   "id": "a9a90459",
   "metadata": {},
   "outputs": [],
   "source": [
    "categorical_df['Coverage'] = categorical_df['Coverage'].replace({'Premium':'Extended'})"
   ]
  },
  {
   "cell_type": "markdown",
   "id": "250fc5bb",
   "metadata": {},
   "source": [
    "For column 'Education' add a new value 'Higher Grade' containing all 'Master' and 'Doctor' entries.\n"
   ]
  },
  {
   "cell_type": "code",
   "execution_count": 12,
   "id": "a51ff52f",
   "metadata": {},
   "outputs": [],
   "source": [
    "categorical_df['Education'] = categorical_df['Education'].replace({\n",
    "    'Master':'Higher Grade',\n",
    "    'Doctor':'Higher Grade'\n",
    "})"
   ]
  },
  {
   "cell_type": "markdown",
   "id": "9d8c391b",
   "metadata": {},
   "source": [
    "For column 'EmploymentStatus' add 'Medical Leave', 'Disabled' and 'Retired' to 'Unemployed'"
   ]
  },
  {
   "cell_type": "code",
   "execution_count": 13,
   "id": "fe9a4088",
   "metadata": {},
   "outputs": [],
   "source": [
    "categorical_df['EmploymentStatus'] = categorical_df['EmploymentStatus'].replace({\n",
    "        'Medical Leave':'Unemployed',\n",
    "        'Disabled':'Unemployed',\n",
    "        'Unemployed':'Unemployed'\n",
    "})"
   ]
  },
  {
   "cell_type": "markdown",
   "id": "0d8753f0",
   "metadata": {},
   "source": [
    "For column 'Marital Status' merge 'Single' and 'Divorced'."
   ]
  },
  {
   "cell_type": "code",
   "execution_count": 14,
   "id": "95f223cb",
   "metadata": {},
   "outputs": [],
   "source": [
    "categorical_df['Marital Status'] = categorical_df['Marital Status'].replace({\n",
    "    'Divorced':'Single'\n",
    "})"
   ]
  },
  {
   "cell_type": "markdown",
   "id": "ee268de9",
   "metadata": {},
   "source": [
    "For column 'Policy Type' we add 'Special Auto' to 'Corporate Auto'."
   ]
  },
  {
   "cell_type": "code",
   "execution_count": 16,
   "id": "50d02628",
   "metadata": {
    "scrolled": true
   },
   "outputs": [],
   "source": [
    "customer_df['Policy Type'] = categorical_df['Policy'].rename({'Special Auto':'Corporate Auto'})"
   ]
  },
  {
   "cell_type": "markdown",
   "id": "c08da8dc",
   "metadata": {},
   "source": [
    "For column 'Vehicle Class' combine values 'Sports Car', 'Luxury SUV', 'Luxury Car' to 'Other'."
   ]
  },
  {
   "cell_type": "code",
   "execution_count": 18,
   "id": "f36c6ce6",
   "metadata": {},
   "outputs": [],
   "source": [
    "categorical_df['Vehicle Class'] = categorical_df['Vehicle Class'].rename({\n",
    "    'Sports Car':'Other',\n",
    "    'Luxury SUV':'Other',\n",
    "    'Luxury Car':'Other'\n",
    "})"
   ]
  },
  {
   "cell_type": "code",
   "execution_count": 19,
   "id": "4733a01a",
   "metadata": {},
   "outputs": [
    {
     "data": {
      "text/html": [
       "<div>\n",
       "<style scoped>\n",
       "    .dataframe tbody tr th:only-of-type {\n",
       "        vertical-align: middle;\n",
       "    }\n",
       "\n",
       "    .dataframe tbody tr th {\n",
       "        vertical-align: top;\n",
       "    }\n",
       "\n",
       "    .dataframe thead th {\n",
       "        text-align: right;\n",
       "    }\n",
       "</style>\n",
       "<table border=\"1\" class=\"dataframe\">\n",
       "  <thead>\n",
       "    <tr style=\"text-align: right;\">\n",
       "      <th></th>\n",
       "      <th>Customer</th>\n",
       "      <th>State</th>\n",
       "      <th>Response</th>\n",
       "      <th>Coverage</th>\n",
       "      <th>Education</th>\n",
       "      <th>EmploymentStatus</th>\n",
       "      <th>Gender</th>\n",
       "      <th>Location Code</th>\n",
       "      <th>Marital Status</th>\n",
       "      <th>Policy Type</th>\n",
       "      <th>Sales Channel</th>\n",
       "      <th>Vehicle Class</th>\n",
       "      <th>Vehicle Size</th>\n",
       "    </tr>\n",
       "  </thead>\n",
       "  <tbody>\n",
       "    <tr>\n",
       "      <th>0</th>\n",
       "      <td>BU79786</td>\n",
       "      <td>Other</td>\n",
       "      <td>No</td>\n",
       "      <td>Basic</td>\n",
       "      <td>Bachelor</td>\n",
       "      <td>Employed</td>\n",
       "      <td>F</td>\n",
       "      <td>Suburban</td>\n",
       "      <td>Married</td>\n",
       "      <td>Corporate Auto</td>\n",
       "      <td>Agent</td>\n",
       "      <td>Two-Door Car</td>\n",
       "      <td>Medsize</td>\n",
       "    </tr>\n",
       "    <tr>\n",
       "      <th>1</th>\n",
       "      <td>QZ44356</td>\n",
       "      <td>Arizona</td>\n",
       "      <td>No</td>\n",
       "      <td>Extended</td>\n",
       "      <td>Bachelor</td>\n",
       "      <td>Unemployed</td>\n",
       "      <td>F</td>\n",
       "      <td>Suburban</td>\n",
       "      <td>Single</td>\n",
       "      <td>Personal Auto</td>\n",
       "      <td>Agent</td>\n",
       "      <td>Four-Door Car</td>\n",
       "      <td>Medsize</td>\n",
       "    </tr>\n",
       "    <tr>\n",
       "      <th>2</th>\n",
       "      <td>AI49188</td>\n",
       "      <td>Other</td>\n",
       "      <td>No</td>\n",
       "      <td>Extended</td>\n",
       "      <td>Bachelor</td>\n",
       "      <td>Employed</td>\n",
       "      <td>F</td>\n",
       "      <td>Suburban</td>\n",
       "      <td>Married</td>\n",
       "      <td>Personal Auto</td>\n",
       "      <td>Agent</td>\n",
       "      <td>Two-Door Car</td>\n",
       "      <td>Medsize</td>\n",
       "    </tr>\n",
       "    <tr>\n",
       "      <th>3</th>\n",
       "      <td>WW63253</td>\n",
       "      <td>California</td>\n",
       "      <td>No</td>\n",
       "      <td>Basic</td>\n",
       "      <td>Bachelor</td>\n",
       "      <td>Unemployed</td>\n",
       "      <td>M</td>\n",
       "      <td>Suburban</td>\n",
       "      <td>Married</td>\n",
       "      <td>Corporate Auto</td>\n",
       "      <td>Call Center</td>\n",
       "      <td>SUV</td>\n",
       "      <td>Medsize</td>\n",
       "    </tr>\n",
       "    <tr>\n",
       "      <th>4</th>\n",
       "      <td>HB64268</td>\n",
       "      <td>Other</td>\n",
       "      <td>No</td>\n",
       "      <td>Basic</td>\n",
       "      <td>Bachelor</td>\n",
       "      <td>Employed</td>\n",
       "      <td>M</td>\n",
       "      <td>Rural</td>\n",
       "      <td>Single</td>\n",
       "      <td>Personal Auto</td>\n",
       "      <td>Agent</td>\n",
       "      <td>Four-Door Car</td>\n",
       "      <td>Medsize</td>\n",
       "    </tr>\n",
       "  </tbody>\n",
       "</table>\n",
       "</div>"
      ],
      "text/plain": [
       "  Customer       State Response  Coverage Education EmploymentStatus Gender  \\\n",
       "0  BU79786       Other       No     Basic  Bachelor         Employed      F   \n",
       "1  QZ44356     Arizona       No  Extended  Bachelor       Unemployed      F   \n",
       "2  AI49188       Other       No  Extended  Bachelor         Employed      F   \n",
       "3  WW63253  California       No     Basic  Bachelor       Unemployed      M   \n",
       "4  HB64268       Other       No     Basic  Bachelor         Employed      M   \n",
       "\n",
       "  Location Code Marital Status     Policy Type Sales Channel  Vehicle Class  \\\n",
       "0      Suburban        Married  Corporate Auto         Agent   Two-Door Car   \n",
       "1      Suburban         Single   Personal Auto         Agent  Four-Door Car   \n",
       "2      Suburban        Married   Personal Auto         Agent   Two-Door Car   \n",
       "3      Suburban        Married  Corporate Auto   Call Center            SUV   \n",
       "4         Rural         Single   Personal Auto         Agent  Four-Door Car   \n",
       "\n",
       "  Vehicle Size  \n",
       "0      Medsize  \n",
       "1      Medsize  \n",
       "2      Medsize  \n",
       "3      Medsize  \n",
       "4      Medsize  "
      ]
     },
     "execution_count": 19,
     "metadata": {},
     "output_type": "execute_result"
    }
   ],
   "source": [
    "categorical_df.head()"
   ]
  }
 ],
 "metadata": {
  "kernelspec": {
   "display_name": "Python 3 (ipykernel)",
   "language": "python",
   "name": "python3"
  },
  "language_info": {
   "codemirror_mode": {
    "name": "ipython",
    "version": 3
   },
   "file_extension": ".py",
   "mimetype": "text/x-python",
   "name": "python",
   "nbconvert_exporter": "python",
   "pygments_lexer": "ipython3",
   "version": "3.10.7"
  }
 },
 "nbformat": 4,
 "nbformat_minor": 5
}
