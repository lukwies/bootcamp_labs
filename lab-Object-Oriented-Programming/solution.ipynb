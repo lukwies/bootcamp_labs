{
 "cells": [
  {
   "cell_type": "markdown",
   "id": "22f219f2",
   "metadata": {},
   "source": [
    "\n",
    "\n",
    "# Lab | Object Oriented Programming\n",
    "\n",
    "## Introduction\n",
    "\n",
    "In this lab you have to implement a Python class for a TV.\n",
    "\n",
    "## Constructor\n",
    "\n",
    "Crete a Python Tv class with a constructor and the following attributes:\n",
    "\n",
    "* .on (Boolean)\n",
    "* .volume (float in [0,100])\n",
    "* .active_channel (int in [1,10])\n",
    "* .input (str in [\"Anthena\", \"HDMI1\", \"HDMI2\", \"HDMI3\"])\n",
    "* .size (float in [42, 50, 55, 65, 75])\n",
    "\n",
    "## Methods\n",
    "\n",
    "* .switch_on()\n",
    "* .switch_off()\n",
    "* .set_volume(volume: int)\n",
    "* .change_channel(channel: int)\n",
    "* .set_input(value: str)\n"
   ]
  },
  {
   "cell_type": "code",
   "execution_count": 10,
   "id": "2f2ae671",
   "metadata": {},
   "outputs": [],
   "source": [
    "class Tv:\n",
    "    \n",
    "    def __init__(self):\n",
    "        self.on = False\n",
    "        self.volume = 50\n",
    "        self.active_channel = 1\n",
    "        self.input = \"Antenna\"\n",
    "        self.size  = 42.0\n",
    "\n",
    "    def switch_on(self):\n",
    "        self.on = True\n",
    "        \n",
    "    def switch_off(self):\n",
    "        self.on = False\n",
    "        \n",
    "    def set_volume(self, volume: int):\n",
    "        self.volume = volume if volume in range(101) else 50\n",
    "\n",
    "    def change_channel(self, channel: int):\n",
    "        self.channel = channel if channel in range(1,11) else 1\n",
    "\n",
    "    def set_input(self, value: str):\n",
    "        self.input = value if value in [\"Antenna\", \"HDMI1\", \"HDMI2\", \"HDMI3\"] else \"Antenna\"\n",
    "    \n",
    "    def set_size(self, size: float):\n",
    "        self.size = size if size in [42, 50, 55, 65, 75] else 42\n",
    "    \n",
    "    def tostr(self):\n",
    "        return f\"Enabled: {self.on}\\n\"\\\n",
    "               f\"Volume:  {self.volume}\\n\"\\\n",
    "               f\"Channel: {self.channel}\\n\"\\\n",
    "               f\"Input:   {self.input}\\n\"\\\n",
    "               f\"Size:    {self.size}\""
   ]
  },
  {
   "cell_type": "code",
   "execution_count": 11,
   "id": "e3f97b6a",
   "metadata": {},
   "outputs": [
    {
     "name": "stdout",
     "output_type": "stream",
     "text": [
      "Enabled: True\n",
      "Volume:  100\n",
      "Channel: 1\n",
      "Input:   HDMI3\n",
      "Size:    65\n"
     ]
    }
   ],
   "source": [
    "tv = Tv()\n",
    "\n",
    "tv.switch_on()\n",
    "tv.change_channel(99)\n",
    "tv.set_input(\"HDMI3\")\n",
    "tv.set_volume(100)\n",
    "tv.set_size(65)\n",
    "\n",
    "print(tv.tostr())"
   ]
  }
 ],
 "metadata": {
  "kernelspec": {
   "display_name": "Python 3 (ipykernel)",
   "language": "python",
   "name": "python3"
  },
  "language_info": {
   "codemirror_mode": {
    "name": "ipython",
    "version": 3
   },
   "file_extension": ".py",
   "mimetype": "text/x-python",
   "name": "python",
   "nbconvert_exporter": "python",
   "pygments_lexer": "ipython3",
   "version": "3.10.8"
  }
 },
 "nbformat": 4,
 "nbformat_minor": 5
}
