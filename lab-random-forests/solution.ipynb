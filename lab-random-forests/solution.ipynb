{
 "cells": [
  {
   "cell_type": "markdown",
   "id": "d0b532d0",
   "metadata": {},
   "source": [
    "# Lab | Random Forests\n",
    "\n",
    "For this lab, you will be using the CSV files provided in the `files_for_lab` folder.\n",
    "\n",
    "### Instructions\n",
    "\n",
    "- Apply the Random Forests algorithm but this time only by upscaling the data.\n",
    "- Discuss the output and its impact in the bussiness scenario. Is the cost of a false positive equals to the cost of the false negative? How would you change your algorithm or data in order to maximize the return of the bussiness?\n"
   ]
  },
  {
   "cell_type": "code",
   "execution_count": 1,
   "id": "6b5ad93e",
   "metadata": {},
   "outputs": [],
   "source": [
    "import pandas as pd\n",
    "import numpy as np\n",
    "import matplotlib.pyplot as plt\n",
    "import time\n",
    "\n",
    "from sklearn.model_selection import train_test_split\n",
    "from sklearn.preprocessing import StandardScaler, MinMaxScaler\n",
    "from imblearn.over_sampling import SMOTE\n",
    "from sklearn.ensemble import RandomForestClassifier\n",
    "from sklearn.feature_selection import SelectKBest, chi2\n",
    "from sklearn.model_selection import GridSearchCV\n",
    "from sklearn.model_selection import cross_val_score\n",
    "from sklearn.metrics import confusion_matrix, ConfusionMatrixDisplay\n",
    "from sklearn.metrics import accuracy_score, classification_report\n",
    "from sklearn.metrics import make_scorer, f1_score, cohen_kappa_score, recall_score\n",
    "from sklearn.utils import resample\n",
    "\n",
    "pd.options.display.max_columns = None"
   ]
  },
  {
   "cell_type": "markdown",
   "id": "9ee38fe3",
   "metadata": {},
   "source": [
    "#### Load data"
   ]
  },
  {
   "cell_type": "code",
   "execution_count": 2,
   "id": "465f1153",
   "metadata": {},
   "outputs": [],
   "source": [
    "numerical   = pd.read_csv('files_for_lab/numerical.csv')\n",
    "categorical = pd.read_csv('files_for_lab/categorical.csv')\n",
    "target      = pd.read_csv('files_for_lab/target.csv')"
   ]
  },
  {
   "cell_type": "markdown",
   "id": "d2db1b65",
   "metadata": {},
   "source": [
    "#### Column \"TARGET_B\" encodes if the customer answered or not the call\n"
   ]
  },
  {
   "cell_type": "code",
   "execution_count": 3,
   "id": "8acb6520",
   "metadata": {
    "scrolled": false
   },
   "outputs": [
    {
     "data": {
      "text/plain": [
       "0    90569\n",
       "1     4843\n",
       "Name: TARGET_B, dtype: int64"
      ]
     },
     "execution_count": 3,
     "metadata": {},
     "output_type": "execute_result"
    }
   ],
   "source": [
    "target['TARGET_B'].value_counts(dropna=False)"
   ]
  },
  {
   "cell_type": "markdown",
   "id": "89499ca9",
   "metadata": {},
   "source": [
    "We heave huge imbalance here"
   ]
  },
  {
   "cell_type": "markdown",
   "id": "59efeceb",
   "metadata": {},
   "source": [
    "#### Encode categoricals since upsampling with SMOTE requires numericals"
   ]
  },
  {
   "cell_type": "code",
   "execution_count": 4,
   "id": "77e1a940",
   "metadata": {},
   "outputs": [],
   "source": [
    "categorical_encoded = pd.get_dummies(categorical, drop_first=True)\n",
    "data = pd.concat([numerical, categorical_encoded, target], axis=1)"
   ]
  },
  {
   "cell_type": "markdown",
   "id": "9940700d",
   "metadata": {},
   "source": [
    "#### Upsampling target column to get rid of imbalance"
   ]
  },
  {
   "cell_type": "code",
   "execution_count": 5,
   "id": "58497534",
   "metadata": {
    "scrolled": false
   },
   "outputs": [],
   "source": [
    "target_b_0 = data[data['TARGET_B']==0]\n",
    "target_b_1 = data[data['TARGET_B']==1]\n",
    "\n",
    "target_b_1s = resample(target_b_1, replace=True, n_samples=len(target_b_0))\n",
    "data = pd.concat([target_b_0, target_b_1s])"
   ]
  },
  {
   "cell_type": "code",
   "execution_count": 6,
   "id": "c3c2977b",
   "metadata": {
    "scrolled": true
   },
   "outputs": [
    {
     "data": {
      "text/plain": [
       "0    90569\n",
       "1    90569\n",
       "Name: TARGET_B, dtype: int64"
      ]
     },
     "execution_count": 6,
     "metadata": {},
     "output_type": "execute_result"
    }
   ],
   "source": [
    "data['TARGET_B'].value_counts()"
   ]
  },
  {
   "cell_type": "markdown",
   "id": "9b3d6a97",
   "metadata": {},
   "source": [
    "#### X/y Split"
   ]
  },
  {
   "cell_type": "code",
   "execution_count": 7,
   "id": "2face946",
   "metadata": {},
   "outputs": [],
   "source": [
    "\n",
    "X = data.drop(['TARGET_B', 'TARGET_D'], axis=1)\n",
    "y = data['TARGET_B']"
   ]
  },
  {
   "cell_type": "markdown",
   "id": "48585e8c",
   "metadata": {},
   "source": [
    "#### Train/Test Split"
   ]
  },
  {
   "cell_type": "code",
   "execution_count": 8,
   "id": "75972a07",
   "metadata": {},
   "outputs": [],
   "source": [
    "X_train, X_test, y_train, y_test = train_test_split(X, y, random_state=0, test_size=0.3)"
   ]
  },
  {
   "cell_type": "markdown",
   "id": "c2d2c0fb",
   "metadata": {},
   "source": [
    "#### Scale numerical data"
   ]
  },
  {
   "cell_type": "code",
   "execution_count": 9,
   "id": "dc756013",
   "metadata": {},
   "outputs": [],
   "source": [
    "scaler = MinMaxScaler()\n",
    "scaler.fit(X_train)\n",
    "\n",
    "X_train_scaled = pd.DataFrame(scaler.transform(X_train), columns=X_train.columns)\n",
    "X_test_scaled  = pd.DataFrame(scaler.transform(X_test), columns=X_test.columns)\n"
   ]
  },
  {
   "cell_type": "markdown",
   "id": "8833baec",
   "metadata": {},
   "source": [
    "#### Find best features for our model"
   ]
  },
  {
   "cell_type": "code",
   "execution_count": 10,
   "id": "9b69eefc",
   "metadata": {},
   "outputs": [],
   "source": [
    "kbest = SelectKBest(chi2, k=10) # Here we choose 10 best features so that is easier to analyze results later\n",
    "kbest.fit(X_train, y_train)\n",
    "X_new = kbest.transform(X_train)"
   ]
  },
  {
   "cell_type": "code",
   "execution_count": 11,
   "id": "3cd2525e",
   "metadata": {},
   "outputs": [
    {
     "name": "stdout",
     "output_type": "stream",
     "text": [
      "['TCODE', 'POP901', 'POP902', 'POP903', 'HV1', 'HV2', 'MSA', 'IC2', 'IC5', 'CONTROLN']\n"
     ]
    }
   ],
   "source": [
    "best_cols = [X.columns[index] for index,value in enumerate(kbest.get_support().tolist()) if value == True]\n",
    "print(best_cols)"
   ]
  },
  {
   "cell_type": "markdown",
   "id": "a470086c",
   "metadata": {},
   "source": [
    "#### Using GridSearchCV to obtain the best parameters for our model"
   ]
  },
  {
   "cell_type": "code",
   "execution_count": 12,
   "id": "ffbebfef",
   "metadata": {},
   "outputs": [],
   "source": [
    "def my_gridsearch(X, y, model, params, scorefunc=accuracy_score, cv=5, verbose=0):\n",
    "    '''\n",
    "    Applies a gridsearch cross validation.\n",
    "    \n",
    "    Args:\n",
    "        X:       The independent variables\n",
    "        y:       The dependent variable\n",
    "        model:   Model to use\n",
    "        params:  Hyperparameters for the model\n",
    "        scorer:  Scoring function (default=accuracy_score)\n",
    "        cv:      Number of folds (default=5)\n",
    "        verbose: Verbosity level {0-3} (default=0)\n",
    "    Return:\n",
    "        The fitted GridSearchCV instance\n",
    "    '''\n",
    "    start_time = time.time()\n",
    "    scorer = make_scorer(scorefunc)\n",
    "    gs = GridSearchCV(estimator=model, param_grid=params, cv=cv,\n",
    "                      verbose=verbose, scoring=scorer, n_jobs=-1)\n",
    "    gs.fit(X, y)    \n",
    "    s = f'{scorefunc=}'\n",
    "    \n",
    "    print(f\"\\033[1mScore-func\\033[0m:  {s.split('=')[1].split(' ')[1]}\")\n",
    "    print(f'\\033[1mBest score\\033[0m:  {gs.best_score_}')\n",
    "    print(f'\\033[1mBest params\\033[0m: {gs.best_params_}')\n",
    "    print( \"\\033[1mTime needed\\033[0m: {:.4f}\".format(time.time() - start_time))\n",
    "    \n",
    "    return gs\n",
    "    "
   ]
  },
  {
   "cell_type": "code",
   "execution_count": 13,
   "id": "a29363ed",
   "metadata": {
    "scrolled": true
   },
   "outputs": [
    {
     "name": "stdout",
     "output_type": "stream",
     "text": [
      "\u001b[1mScore-func\u001b[0m:  recall_score\n",
      "\u001b[1mBest score\u001b[0m:  0.9996358066121049\n",
      "\u001b[1mBest params\u001b[0m: {'criterion': 'gini', 'max_depth': None, 'min_samples_leaf': 2}\n",
      "\u001b[1mTime needed\u001b[0m: 483.4221\n"
     ]
    }
   ],
   "source": [
    "params = {\n",
    "    'criterion': [\"gini\", \"entropy\"],\n",
    "    'max_depth': [5, None],\n",
    "    'min_samples_leaf': [2,4]\n",
    "}\n",
    "\n",
    "gs = my_gridsearch(X_train[best_cols], y_train,\n",
    "                   RandomForestClassifier(),\n",
    "                   params, recall_score)"
   ]
  },
  {
   "cell_type": "markdown",
   "id": "97034695",
   "metadata": {},
   "source": [
    "#### Predict TARGET_B"
   ]
  },
  {
   "cell_type": "code",
   "execution_count": 14,
   "id": "7773c836",
   "metadata": {},
   "outputs": [],
   "source": [
    "y_train_pred = gs.best_estimator_.predict(X_train[best_cols])\n",
    "y_test_pred  = gs.best_estimator_.predict(X_test[best_cols])"
   ]
  },
  {
   "cell_type": "markdown",
   "id": "a04b4167",
   "metadata": {},
   "source": [
    "#### Evaluate scores"
   ]
  },
  {
   "cell_type": "code",
   "execution_count": 15,
   "id": "d90551ae",
   "metadata": {
    "scrolled": false
   },
   "outputs": [
    {
     "name": "stdout",
     "output_type": "stream",
     "text": [
      "Train recall: 1.0\n",
      "Test recall:  1.0\n"
     ]
    }
   ],
   "source": [
    "print(f\"Train recall: {recall_score(y_train, y_train_pred)}\")\n",
    "print(f\"Test recall:  {recall_score(y_test, y_test_pred)}\")"
   ]
  },
  {
   "cell_type": "code",
   "execution_count": 16,
   "id": "97f8bfd9",
   "metadata": {},
   "outputs": [
    {
     "name": "stdout",
     "output_type": "stream",
     "text": [
      "              precision    recall  f1-score   support\n",
      "\n",
      "           0       1.00      0.97      0.99     26927\n",
      "           1       0.97      1.00      0.99     27415\n",
      "\n",
      "    accuracy                           0.99     54342\n",
      "   macro avg       0.99      0.99      0.99     54342\n",
      "weighted avg       0.99      0.99      0.99     54342\n",
      "\n"
     ]
    }
   ],
   "source": [
    "print(classification_report(y_test, y_test_pred))"
   ]
  },
  {
   "cell_type": "markdown",
   "id": "6a97b52e",
   "metadata": {},
   "source": [
    "#### Plot confusion matrix"
   ]
  },
  {
   "cell_type": "code",
   "execution_count": 17,
   "id": "881ba841",
   "metadata": {},
   "outputs": [
    {
     "data": {
      "image/png": "[encoded data removed]",
      "text/plain": [
       "<Figure size 640x480 with 2 Axes>"
      ]
     },
     "metadata": {},
     "output_type": "display_data"
    }
   ],
   "source": [
    "cm_train = confusion_matrix(y_train, y_train_pred)\n",
    "ConfusionMatrixDisplay(cm_train, display_labels=gs.best_estimator_.classes_).plot()\n",
    "plt.show()"
   ]
  },
  {
   "cell_type": "code",
   "execution_count": 18,
   "id": "a9ca2c8d",
   "metadata": {
    "scrolled": false
   },
   "outputs": [
    {
     "data": {
      "image/png": "[encoded data removed]",
      "text/plain": [
       "<Figure size 640x480 with 2 Axes>"
      ]
     },
     "metadata": {},
     "output_type": "display_data"
    }
   ],
   "source": [
    "cm_test = confusion_matrix(y_test, y_test_pred)\n",
    "ConfusionMatrixDisplay(cm_test, display_labels=gs.best_estimator_.classes_).plot()\n",
    "plt.show()"
   ]
  },
  {
   "cell_type": "markdown",
   "id": "469ec613",
   "metadata": {},
   "source": [
    "#### Check if we get better results using kappa score"
   ]
  },
  {
   "cell_type": "code",
   "execution_count": 19,
   "id": "dfbbf12b",
   "metadata": {
    "scrolled": true
   },
   "outputs": [
    {
     "name": "stdout",
     "output_type": "stream",
     "text": [
      "\u001b[1mScore-func\u001b[0m:  cohen_kappa_score\n",
      "\u001b[1mBest score\u001b[0m:  0.970790498085577\n",
      "\u001b[1mBest params\u001b[0m: {'criterion': 'entropy', 'min_samples_leaf': 2, 'min_samples_split': 2}\n",
      "\u001b[1mTime needed\u001b[0m: 165.0723\n"
     ]
    },
    {
     "data": {
      "text/html": [
       "<style>#sk-container-id-1 {color: black;background-color: white;}#sk-container-id-1 pre{padding: 0;}#sk-container-id-1 div.sk-toggleable {background-color: white;}#sk-container-id-1 label.sk-toggleable__label {cursor: pointer;display: block;width: 100%;margin-bottom: 0;padding: 0.3em;box-sizing: border-box;text-align: center;}#sk-container-id-1 label.sk-toggleable__label-arrow:before {content: \"▸\";float: left;margin-right: 0.25em;color: #696969;}#sk-container-id-1 label.sk-toggleable__label-arrow:hover:before {color: black;}#sk-container-id-1 div.sk-estimator:hover label.sk-toggleable__label-arrow:before {color: black;}#sk-container-id-1 div.sk-toggleable__content {max-height: 0;max-width: 0;overflow: hidden;text-align: left;background-color: #f0f8ff;}#sk-container-id-1 div.sk-toggleable__content pre {margin: 0.2em;color: black;border-radius: 0.25em;background-color: #f0f8ff;}#sk-container-id-1 input.sk-toggleable__control:checked~div.sk-toggleable__content {max-height: 200px;max-width: 100%;overflow: auto;}#sk-container-id-1 input.sk-toggleable__control:checked~label.sk-toggleable__label-arrow:before {content: \"▾\";}#sk-container-id-1 div.sk-estimator input.sk-toggleable__control:checked~label.sk-toggleable__label {background-color: #d4ebff;}#sk-container-id-1 div.sk-label input.sk-toggleable__control:checked~label.sk-toggleable__label {background-color: #d4ebff;}#sk-container-id-1 input.sk-hidden--visually {border: 0;clip: rect(1px 1px 1px 1px);clip: rect(1px, 1px, 1px, 1px);height: 1px;margin: -1px;overflow: hidden;padding: 0;position: absolute;width: 1px;}#sk-container-id-1 div.sk-estimator {font-family: monospace;background-color: #f0f8ff;border: 1px dotted black;border-radius: 0.25em;box-sizing: border-box;margin-bottom: 0.5em;}#sk-container-id-1 div.sk-estimator:hover {background-color: #d4ebff;}#sk-container-id-1 div.sk-parallel-item::after {content: \"\";width: 100%;border-bottom: 1px solid gray;flex-grow: 1;}#sk-container-id-1 div.sk-label:hover label.sk-toggleable__label {background-color: #d4ebff;}#sk-container-id-1 div.sk-serial::before {content: \"\";position: absolute;border-left: 1px solid gray;box-sizing: border-box;top: 0;bottom: 0;left: 50%;z-index: 0;}#sk-container-id-1 div.sk-serial {display: flex;flex-direction: column;align-items: center;background-color: white;padding-right: 0.2em;padding-left: 0.2em;position: relative;}#sk-container-id-1 div.sk-item {position: relative;z-index: 1;}#sk-container-id-1 div.sk-parallel {display: flex;align-items: stretch;justify-content: center;background-color: white;position: relative;}#sk-container-id-1 div.sk-item::before, #sk-container-id-1 div.sk-parallel-item::before {content: \"\";position: absolute;border-left: 1px solid gray;box-sizing: border-box;top: 0;bottom: 0;left: 50%;z-index: -1;}#sk-container-id-1 div.sk-parallel-item {display: flex;flex-direction: column;z-index: 1;position: relative;background-color: white;}#sk-container-id-1 div.sk-parallel-item:first-child::after {align-self: flex-end;width: 50%;}#sk-container-id-1 div.sk-parallel-item:last-child::after {align-self: flex-start;width: 50%;}#sk-container-id-1 div.sk-parallel-item:only-child::after {width: 0;}#sk-container-id-1 div.sk-dashed-wrapped {border: 1px dashed gray;margin: 0 0.4em 0.5em 0.4em;box-sizing: border-box;padding-bottom: 0.4em;background-color: white;}#sk-container-id-1 div.sk-label label {font-family: monospace;font-weight: bold;display: inline-block;line-height: 1.2em;}#sk-container-id-1 div.sk-label-container {text-align: center;}#sk-container-id-1 div.sk-container {/* jupyter's `normalize.less` sets `[hidden] { display: none; }` but bootstrap.min.css set `[hidden] { display: none !important; }` so we also need the `!important` here to be able to override the default hidden behavior on the sphinx rendered scikit-learn.org. See: https://github.com/scikit-learn/scikit-learn/issues/21755 */display: inline-block !important;position: relative;}#sk-container-id-1 div.sk-text-repr-fallback {display: none;}</style><div id=\"sk-container-id-1\" class=\"sk-top-container\"><div class=\"sk-text-repr-fallback\"><pre>GridSearchCV(cv=5, estimator=RandomForestClassifier(), n_jobs=-1,\n",
       "             param_grid={&#x27;criterion&#x27;: [&#x27;entropy&#x27;], &#x27;min_samples_leaf&#x27;: [2],\n",
       "                         &#x27;min_samples_split&#x27;: [2]},\n",
       "             scoring=make_scorer(cohen_kappa_score))</pre><b>In a Jupyter environment, please rerun this cell to show the HTML representation or trust the notebook. <br />On GitHub, the HTML representation is unable to render, please try loading this page with nbviewer.org.</b></div><div class=\"sk-container\" hidden><div class=\"sk-item sk-dashed-wrapped\"><div class=\"sk-label-container\"><div class=\"sk-label sk-toggleable\"><input class=\"sk-toggleable__control sk-hidden--visually\" id=\"sk-estimator-id-1\" type=\"checkbox\" ><label for=\"sk-estimator-id-1\" class=\"sk-toggleable__label sk-toggleable__label-arrow\">GridSearchCV</label><div class=\"sk-toggleable__content\"><pre>GridSearchCV(cv=5, estimator=RandomForestClassifier(), n_jobs=-1,\n",
       "             param_grid={&#x27;criterion&#x27;: [&#x27;entropy&#x27;], &#x27;min_samples_leaf&#x27;: [2],\n",
       "                         &#x27;min_samples_split&#x27;: [2]},\n",
       "             scoring=make_scorer(cohen_kappa_score))</pre></div></div></div><div class=\"sk-parallel\"><div class=\"sk-parallel-item\"><div class=\"sk-item\"><div class=\"sk-label-container\"><div class=\"sk-label sk-toggleable\"><input class=\"sk-toggleable__control sk-hidden--visually\" id=\"sk-estimator-id-2\" type=\"checkbox\" ><label for=\"sk-estimator-id-2\" class=\"sk-toggleable__label sk-toggleable__label-arrow\">estimator: RandomForestClassifier</label><div class=\"sk-toggleable__content\"><pre>RandomForestClassifier()</pre></div></div></div><div class=\"sk-serial\"><div class=\"sk-item\"><div class=\"sk-estimator sk-toggleable\"><input class=\"sk-toggleable__control sk-hidden--visually\" id=\"sk-estimator-id-3\" type=\"checkbox\" ><label for=\"sk-estimator-id-3\" class=\"sk-toggleable__label sk-toggleable__label-arrow\">RandomForestClassifier</label><div class=\"sk-toggleable__content\"><pre>RandomForestClassifier()</pre></div></div></div></div></div></div></div></div></div></div>"
      ],
      "text/plain": [
       "GridSearchCV(cv=5, estimator=RandomForestClassifier(), n_jobs=-1,\n",
       "             param_grid={'criterion': ['entropy'], 'min_samples_leaf': [2],\n",
       "                         'min_samples_split': [2]},\n",
       "             scoring=make_scorer(cohen_kappa_score))"
      ]
     },
     "execution_count": 19,
     "metadata": {},
     "output_type": "execute_result"
    }
   ],
   "source": [
    "best_params = {\n",
    "    'criterion': ['entropy'],\n",
    "    'min_samples_leaf': [2],\n",
    "    'min_samples_split': [2]\n",
    "}\n",
    "\n",
    "my_gridsearch(X_train[best_cols], y_train,\n",
    "              RandomForestClassifier(),\n",
    "              best_params, cohen_kappa_score)"
   ]
  },
  {
   "cell_type": "markdown",
   "id": "78068292",
   "metadata": {},
   "source": [
    "#### Check if we get better results using f1 score"
   ]
  },
  {
   "cell_type": "code",
   "execution_count": 20,
   "id": "a5235463",
   "metadata": {
    "scrolled": false
   },
   "outputs": [
    {
     "name": "stdout",
     "output_type": "stream",
     "text": [
      "\u001b[1mScore-func\u001b[0m:  f1_score\n",
      "\u001b[1mBest score\u001b[0m:  0.9856765086363757\n",
      "\u001b[1mBest params\u001b[0m: {'criterion': 'entropy', 'min_samples_leaf': 2, 'min_samples_split': 2}\n",
      "\u001b[1mTime needed\u001b[0m: 164.0954\n"
     ]
    },
    {
     "data": {
      "text/html": [
       "<style>#sk-container-id-2 {color: black;background-color: white;}#sk-container-id-2 pre{padding: 0;}#sk-container-id-2 div.sk-toggleable {background-color: white;}#sk-container-id-2 label.sk-toggleable__label {cursor: pointer;display: block;width: 100%;margin-bottom: 0;padding: 0.3em;box-sizing: border-box;text-align: center;}#sk-container-id-2 label.sk-toggleable__label-arrow:before {content: \"▸\";float: left;margin-right: 0.25em;color: #696969;}#sk-container-id-2 label.sk-toggleable__label-arrow:hover:before {color: black;}#sk-container-id-2 div.sk-estimator:hover label.sk-toggleable__label-arrow:before {color: black;}#sk-container-id-2 div.sk-toggleable__content {max-height: 0;max-width: 0;overflow: hidden;text-align: left;background-color: #f0f8ff;}#sk-container-id-2 div.sk-toggleable__content pre {margin: 0.2em;color: black;border-radius: 0.25em;background-color: #f0f8ff;}#sk-container-id-2 input.sk-toggleable__control:checked~div.sk-toggleable__content {max-height: 200px;max-width: 100%;overflow: auto;}#sk-container-id-2 input.sk-toggleable__control:checked~label.sk-toggleable__label-arrow:before {content: \"▾\";}#sk-container-id-2 div.sk-estimator input.sk-toggleable__control:checked~label.sk-toggleable__label {background-color: #d4ebff;}#sk-container-id-2 div.sk-label input.sk-toggleable__control:checked~label.sk-toggleable__label {background-color: #d4ebff;}#sk-container-id-2 input.sk-hidden--visually {border: 0;clip: rect(1px 1px 1px 1px);clip: rect(1px, 1px, 1px, 1px);height: 1px;margin: -1px;overflow: hidden;padding: 0;position: absolute;width: 1px;}#sk-container-id-2 div.sk-estimator {font-family: monospace;background-color: #f0f8ff;border: 1px dotted black;border-radius: 0.25em;box-sizing: border-box;margin-bottom: 0.5em;}#sk-container-id-2 div.sk-estimator:hover {background-color: #d4ebff;}#sk-container-id-2 div.sk-parallel-item::after {content: \"\";width: 100%;border-bottom: 1px solid gray;flex-grow: 1;}#sk-container-id-2 div.sk-label:hover label.sk-toggleable__label {background-color: #d4ebff;}#sk-container-id-2 div.sk-serial::before {content: \"\";position: absolute;border-left: 1px solid gray;box-sizing: border-box;top: 0;bottom: 0;left: 50%;z-index: 0;}#sk-container-id-2 div.sk-serial {display: flex;flex-direction: column;align-items: center;background-color: white;padding-right: 0.2em;padding-left: 0.2em;position: relative;}#sk-container-id-2 div.sk-item {position: relative;z-index: 1;}#sk-container-id-2 div.sk-parallel {display: flex;align-items: stretch;justify-content: center;background-color: white;position: relative;}#sk-container-id-2 div.sk-item::before, #sk-container-id-2 div.sk-parallel-item::before {content: \"\";position: absolute;border-left: 1px solid gray;box-sizing: border-box;top: 0;bottom: 0;left: 50%;z-index: -1;}#sk-container-id-2 div.sk-parallel-item {display: flex;flex-direction: column;z-index: 1;position: relative;background-color: white;}#sk-container-id-2 div.sk-parallel-item:first-child::after {align-self: flex-end;width: 50%;}#sk-container-id-2 div.sk-parallel-item:last-child::after {align-self: flex-start;width: 50%;}#sk-container-id-2 div.sk-parallel-item:only-child::after {width: 0;}#sk-container-id-2 div.sk-dashed-wrapped {border: 1px dashed gray;margin: 0 0.4em 0.5em 0.4em;box-sizing: border-box;padding-bottom: 0.4em;background-color: white;}#sk-container-id-2 div.sk-label label {font-family: monospace;font-weight: bold;display: inline-block;line-height: 1.2em;}#sk-container-id-2 div.sk-label-container {text-align: center;}#sk-container-id-2 div.sk-container {/* jupyter's `normalize.less` sets `[hidden] { display: none; }` but bootstrap.min.css set `[hidden] { display: none !important; }` so we also need the `!important` here to be able to override the default hidden behavior on the sphinx rendered scikit-learn.org. See: https://github.com/scikit-learn/scikit-learn/issues/21755 */display: inline-block !important;position: relative;}#sk-container-id-2 div.sk-text-repr-fallback {display: none;}</style><div id=\"sk-container-id-2\" class=\"sk-top-container\"><div class=\"sk-text-repr-fallback\"><pre>GridSearchCV(cv=5, estimator=RandomForestClassifier(), n_jobs=-1,\n",
       "             param_grid={&#x27;criterion&#x27;: [&#x27;entropy&#x27;], &#x27;min_samples_leaf&#x27;: [2],\n",
       "                         &#x27;min_samples_split&#x27;: [2]},\n",
       "             scoring=make_scorer(f1_score))</pre><b>In a Jupyter environment, please rerun this cell to show the HTML representation or trust the notebook. <br />On GitHub, the HTML representation is unable to render, please try loading this page with nbviewer.org.</b></div><div class=\"sk-container\" hidden><div class=\"sk-item sk-dashed-wrapped\"><div class=\"sk-label-container\"><div class=\"sk-label sk-toggleable\"><input class=\"sk-toggleable__control sk-hidden--visually\" id=\"sk-estimator-id-4\" type=\"checkbox\" ><label for=\"sk-estimator-id-4\" class=\"sk-toggleable__label sk-toggleable__label-arrow\">GridSearchCV</label><div class=\"sk-toggleable__content\"><pre>GridSearchCV(cv=5, estimator=RandomForestClassifier(), n_jobs=-1,\n",
       "             param_grid={&#x27;criterion&#x27;: [&#x27;entropy&#x27;], &#x27;min_samples_leaf&#x27;: [2],\n",
       "                         &#x27;min_samples_split&#x27;: [2]},\n",
       "             scoring=make_scorer(f1_score))</pre></div></div></div><div class=\"sk-parallel\"><div class=\"sk-parallel-item\"><div class=\"sk-item\"><div class=\"sk-label-container\"><div class=\"sk-label sk-toggleable\"><input class=\"sk-toggleable__control sk-hidden--visually\" id=\"sk-estimator-id-5\" type=\"checkbox\" ><label for=\"sk-estimator-id-5\" class=\"sk-toggleable__label sk-toggleable__label-arrow\">estimator: RandomForestClassifier</label><div class=\"sk-toggleable__content\"><pre>RandomForestClassifier()</pre></div></div></div><div class=\"sk-serial\"><div class=\"sk-item\"><div class=\"sk-estimator sk-toggleable\"><input class=\"sk-toggleable__control sk-hidden--visually\" id=\"sk-estimator-id-6\" type=\"checkbox\" ><label for=\"sk-estimator-id-6\" class=\"sk-toggleable__label sk-toggleable__label-arrow\">RandomForestClassifier</label><div class=\"sk-toggleable__content\"><pre>RandomForestClassifier()</pre></div></div></div></div></div></div></div></div></div></div>"
      ],
      "text/plain": [
       "GridSearchCV(cv=5, estimator=RandomForestClassifier(), n_jobs=-1,\n",
       "             param_grid={'criterion': ['entropy'], 'min_samples_leaf': [2],\n",
       "                         'min_samples_split': [2]},\n",
       "             scoring=make_scorer(f1_score))"
      ]
     },
     "execution_count": 20,
     "metadata": {},
     "output_type": "execute_result"
    }
   ],
   "source": [
    "my_gridsearch(X_train[best_cols], y_train,\n",
    "              RandomForestClassifier(),\n",
    "              best_params, f1_score)"
   ]
  },
  {
   "cell_type": "markdown",
   "id": "84810ac1",
   "metadata": {},
   "source": [
    "### Conclusions\n",
    "\n",
    "In my opinion, it would be better for the company to have a false negative than a false positive.\n",
    "Since the average donation amount is 15.62€, the company will lose 15.62 times the number of false positive\n",
    "dollar. On false negative, the company just loses the money for sending a letter..."
   ]
  },
  {
   "cell_type": "code",
   "execution_count": 21,
   "id": "8c42f9fd",
   "metadata": {},
   "outputs": [
    {
     "data": {
      "text/plain": [
       "15.624344414619037"
      ]
     },
     "execution_count": 21,
     "metadata": {},
     "output_type": "execute_result"
    }
   ],
   "source": [
    "target[target['TARGET_B']==1]['TARGET_D'].mean()"
   ]
  }
 ],
 "metadata": {
  "kernelspec": {
   "display_name": "Python 3 (ipykernel)",
   "language": "python",
   "name": "python3"
  },
  "language_info": {
   "codemirror_mode": {
    "name": "ipython",
    "version": 3
   },
   "file_extension": ".py",
   "mimetype": "text/x-python",
   "name": "python",
   "nbconvert_exporter": "python",
   "pygments_lexer": "ipython3",
   "version": "3.10.8"
  }
 },
 "nbformat": 4,
 "nbformat_minor": 5
}
