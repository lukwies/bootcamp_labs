{
 "cells": [
  {
   "cell_type": "code",
   "execution_count": 30,
   "id": "3648714f",
   "metadata": {},
   "outputs": [],
   "source": [
    "import pandas as pd\n",
    "import numpy as np\n"
   ]
  },
  {
   "cell_type": "code",
   "execution_count": 31,
   "id": "59ac56d9",
   "metadata": {},
   "outputs": [],
   "source": [
    "# Read the excel file to dataframe\n",
    "\n",
    "df = pd.read_excel('files_for_lab/excel_files/marketing_customer_analysis.xlsx')\n"
   ]
  },
  {
   "cell_type": "code",
   "execution_count": 32,
   "id": "cdc50300",
   "metadata": {},
   "outputs": [
    {
     "name": "stdout",
     "output_type": "stream",
     "text": [
      "Rows=10910 Columns=26\n"
     ]
    }
   ],
   "source": [
    "# Show the DataFrame's shape.\n",
    "\n",
    "print(f\"Rows={df.shape[0]} Columns={df.shape[1]}\")\n"
   ]
  },
  {
   "cell_type": "code",
   "execution_count": 33,
   "id": "534f37fb",
   "metadata": {},
   "outputs": [
    {
     "data": {
      "text/plain": [
       "['unnamed:_0',\n",
       " 'customer',\n",
       " 'state',\n",
       " 'customer_lifetime_value',\n",
       " 'response',\n",
       " 'coverage',\n",
       " 'education',\n",
       " 'effective_to_date',\n",
       " 'employmentstatus',\n",
       " 'gender',\n",
       " 'income',\n",
       " 'location_code',\n",
       " 'marital_status',\n",
       " 'monthly_premium_auto',\n",
       " 'months_since_last_claim',\n",
       " 'months_since_policy_inception',\n",
       " 'number_of_open_complaints',\n",
       " 'number_of_policies',\n",
       " 'policy_type',\n",
       " 'policy',\n",
       " 'renew_offer_type',\n",
       " 'sales_channel',\n",
       " 'total_claim_amount',\n",
       " 'vehicle_class',\n",
       " 'vehicle_size',\n",
       " 'vehicle_type']"
      ]
     },
     "execution_count": 33,
     "metadata": {},
     "output_type": "execute_result"
    }
   ],
   "source": [
    "# Standardize header names.\n",
    "\n",
    "cols = []\n",
    "\n",
    "for col in df.columns:\n",
    "    cols.append(col.lower().replace(' ', '_'))\n",
    "df.columns = cols\n",
    "\n",
    "# Print header names\n",
    "list(df.columns)"
   ]
  },
  {
   "cell_type": "code",
   "execution_count": 34,
   "id": "a1b8685f",
   "metadata": {},
   "outputs": [
    {
     "data": {
      "text/plain": [
       "['unnamed:_0',\n",
       " 'customer_lifetime_value',\n",
       " 'income',\n",
       " 'monthly_premium_auto',\n",
       " 'months_since_last_claim',\n",
       " 'months_since_policy_inception',\n",
       " 'number_of_open_complaints',\n",
       " 'number_of_policies',\n",
       " 'total_claim_amount']"
      ]
     },
     "execution_count": 34,
     "metadata": {},
     "output_type": "execute_result"
    }
   ],
   "source": [
    "# 3. Which columns are numerical?\n",
    "\n",
    "df.select_dtypes(include=np.number).columns.tolist()"
   ]
  },
  {
   "cell_type": "code",
   "execution_count": 35,
   "id": "b44bdd1b",
   "metadata": {},
   "outputs": [
    {
     "data": {
      "text/plain": [
       "['customer',\n",
       " 'state',\n",
       " 'response',\n",
       " 'coverage',\n",
       " 'education',\n",
       " 'employmentstatus',\n",
       " 'gender',\n",
       " 'location_code',\n",
       " 'marital_status',\n",
       " 'policy_type',\n",
       " 'policy',\n",
       " 'renew_offer_type',\n",
       " 'sales_channel',\n",
       " 'vehicle_class',\n",
       " 'vehicle_size',\n",
       " 'vehicle_type']"
      ]
     },
     "execution_count": 35,
     "metadata": {},
     "output_type": "execute_result"
    }
   ],
   "source": [
    "# 4. Which columns are categorical?\n",
    "\n",
    "df.select_dtypes(include=['object']).columns.tolist()"
   ]
  },
  {
   "cell_type": "code",
   "execution_count": 36,
   "id": "45fb0a25",
   "metadata": {
    "scrolled": false
   },
   "outputs": [
    {
     "data": {
      "text/plain": [
       "unnamed:_0                          0\n",
       "customer                            0\n",
       "state                             631\n",
       "customer_lifetime_value             0\n",
       "response                          631\n",
       "coverage                            0\n",
       "education                           0\n",
       "effective_to_date                   0\n",
       "employmentstatus                    0\n",
       "gender                              0\n",
       "income                              0\n",
       "location_code                       0\n",
       "marital_status                      0\n",
       "monthly_premium_auto                0\n",
       "months_since_last_claim           633\n",
       "months_since_policy_inception       0\n",
       "number_of_open_complaints         633\n",
       "number_of_policies                  0\n",
       "policy_type                         0\n",
       "policy                              0\n",
       "renew_offer_type                    0\n",
       "sales_channel                       0\n",
       "total_claim_amount                  0\n",
       "vehicle_class                     622\n",
       "vehicle_size                      622\n",
       "vehicle_type                     5482\n",
       "dtype: int64"
      ]
     },
     "metadata": {},
     "output_type": "display_data"
    }
   ],
   "source": [
    "# 5. Check and deal with NaN values.\n",
    "\n",
    "# Show all columns and their number of NaN values\n",
    "display(df.isnull().sum())"
   ]
  },
  {
   "cell_type": "code",
   "execution_count": 37,
   "id": "712d8330",
   "metadata": {},
   "outputs": [
    {
     "data": {
      "text/plain": [
       "customer                         0\n",
       "state                            0\n",
       "customer_lifetime_value          0\n",
       "response                         0\n",
       "coverage                         0\n",
       "education                        0\n",
       "effective_to_date                0\n",
       "employmentstatus                 0\n",
       "gender                           0\n",
       "income                           0\n",
       "location_code                    0\n",
       "marital_status                   0\n",
       "monthly_premium_auto             0\n",
       "months_since_last_claim          0\n",
       "months_since_policy_inception    0\n",
       "number_of_open_complaints        0\n",
       "number_of_policies               0\n",
       "policy_type                      0\n",
       "policy                           0\n",
       "renew_offer_type                 0\n",
       "sales_channel                    0\n",
       "total_claim_amount               0\n",
       "vehicle_class                    0\n",
       "vehicle_size                     0\n",
       "dtype: int64"
      ]
     },
     "metadata": {},
     "output_type": "display_data"
    }
   ],
   "source": [
    "# Cleaning the columns\n",
    "\n",
    "# Delete duplicate rows\n",
    "df = df.drop_duplicates()\n",
    "\n",
    "# Drop column \"unnamed:_0\"\n",
    "df.drop('unnamed:_0', axis=1, inplace=True)\n",
    "\n",
    "# Column vehicle_type just has ~50% values, so lets drop it\n",
    "df.drop('vehicle_type', axis=1, inplace=True)\n",
    "\n",
    "# Fill all missing values of all columns (with numeric data) with their mean value\n",
    "for col in df.select_dtypes(include=np.number).columns:\n",
    "    df[col] = df[col].fillna(np.mean(df[col]))\n",
    "\n",
    "# Fill all missing values of all columns (with categorical data) with their mode value\n",
    "for col in df.select_dtypes(include=['object']).columns:\n",
    "    if df[col].isnull().any():\n",
    "        df[col] = df[col].fillna(df[col].mode()[0])\n",
    "\n",
    "# Reset row labels\n",
    "df = df.reset_index(drop=True)\n",
    "\n",
    "# Review table for empty values, there shouldn't be any, yet\n",
    "display(df.isnull().sum())"
   ]
  },
  {
   "cell_type": "code",
   "execution_count": 38,
   "id": "bacdb071",
   "metadata": {},
   "outputs": [
    {
     "data": {
      "text/plain": [
       "0        2\n",
       "1        1\n",
       "2        2\n",
       "3        1\n",
       "4        1\n",
       "        ..\n",
       "10905    1\n",
       "10906    1\n",
       "10907    2\n",
       "10908    2\n",
       "10909    1\n",
       "Name: month, Length: 10910, dtype: int64"
      ]
     },
     "execution_count": 38,
     "metadata": {},
     "output_type": "execute_result"
    }
   ],
   "source": [
    "# 6. Datetime format - Extract the months from the dataset and store in a separate column.\n",
    "# Then filter the data to show only the information for the first quarter , ie. January, February and March.\n",
    "# _Hint_: If data from March does not exist, consider only January and February.\n",
    "\n",
    "df['month'] = pd.to_datetime(df['effective_to_date']).dt.month\n",
    "df = df[ (df['month']==1) | (df['month']==2) | (df['month']==3) ]\n",
    "df['month']\n"
   ]
  },
  {
   "cell_type": "code",
   "execution_count": 39,
   "id": "2406583f",
   "metadata": {},
   "outputs": [],
   "source": [
    "#7. BONUS: Put all the previously mentioned data transformations into a function.\n",
    "\n",
    "def clean_data(data):\n",
    "    \n",
    "    df = data.copy()\n",
    "    \n",
    "    # Show tables shape\n",
    "    print(df.shape)\n",
    "\n",
    "    # Standardize header names.\n",
    "    cols = []\n",
    "    for col in df.columns:\n",
    "        cols.append(col.lower().replace(' ', '_'))\n",
    "    df.columns = cols\n",
    "\n",
    "    # Show numerical columns\n",
    "    display(df.select_dtypes(include=np.number).columns.tolist())\n",
    "    \n",
    "    # Show categorical columns\n",
    "    display(df.select_dtypes(include=['object']).columns.tolist())\n",
    "    \n",
    "    # Delete duplicate rows\n",
    "    df = df.drop_duplicates()\n",
    "\n",
    "    # Fill all missing values of all columns (with numeric data) with their mean value\n",
    "    for col in df.select_dtypes(include=np.number).columns:\n",
    "        df[col] = df[col].fillna(np.mean(df[col]))\n",
    "\n",
    "    # Fill all missing values of all columns (with categorical data) with their mode value\n",
    "    for col in df.select_dtypes(include=['object']).columns:\n",
    "        df[col] = df[col].fillna(df[col].mode())\n",
    "\n",
    "    # Reset row labels\n",
    "    df = df.reset_index(drop=True)\n",
    "    \n",
    "    # Datetime format - Extract the months from the dataset and store in a separate column.\n",
    "    # Then filter the data to show only the information for the first quarter , ie. January, February and March.\n",
    "    df['month'] = pd.to_datetime(df['effective_to_date']).dt.month\n",
    "    df = df[ (df['month']==1) | (df['month']==2) | (df['month']==3) ]\n",
    "    \n",
    "    return df"
   ]
  }
 ],
 "metadata": {
  "kernelspec": {
   "display_name": "Python 3 (ipykernel)",
   "language": "python",
   "name": "python3"
  },
  "language_info": {
   "codemirror_mode": {
    "name": "ipython",
    "version": 3
   },
   "file_extension": ".py",
   "mimetype": "text/x-python",
   "name": "python",
   "nbconvert_exporter": "python",
   "pygments_lexer": "ipython3",
   "version": "3.10.6"
  }
 },
 "nbformat": 4,
 "nbformat_minor": 5
}
