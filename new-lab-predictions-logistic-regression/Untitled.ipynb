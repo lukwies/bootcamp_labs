{
 "cells": [
  {
   "cell_type": "markdown",
   "id": "2d5268a6",
   "metadata": {},
   "source": [
    "# Lab | Making predictions with logistic regression\n",
    "\n",
    "In this lab, you will be using the [Sakila](https://dev.mysql.com/doc/sakila/en/) database of movie rentals.\n",
    "\n",
    "In order to optimize our inventory, we would like to predict if a film will have more monthly rentals in July than in June. Create a model to predict it.\n",
    "\n",
    "### Instructions\n",
    "\n",
    "1. Create a query or queries to extract the information you think may be relevant for building the prediction model. It should include some film features and some rental features. Use the data from 2005.\n",
    "2. Create a query to get the total amount of rentals in June for each film. \n",
    "3. Do the same with July. \n",
    "4. Create a new column containing (Yes/No) for each film whether or not the number of monthly rentals in **July was bigger than in June**. Your objective will be to predict this new column.\n",
    "6. Read the data into a Pandas dataframe.\n",
    "7. Analyze extracted features and transform them. You may need to encode some categorical variables or scale numerical variables.\n",
    "8. Create a logistic regression model to predict this new column from the cleaned data.\n",
    "9. Evaluate the results.\n"
   ]
  },
  {
   "cell_type": "code",
   "execution_count": 1,
   "id": "3376ab1b",
   "metadata": {},
   "outputs": [],
   "source": [
    "import pandas as pd\n",
    "import numpy as np\n",
    "import pymysql\n",
    "from sqlalchemy import create_engine\n",
    "import getpass"
   ]
  },
  {
   "cell_type": "markdown",
   "id": "6fc87c0b",
   "metadata": {},
   "source": [
    "#### Establish database connection"
   ]
  },
  {
   "cell_type": "code",
   "execution_count": 5,
   "id": "ad9bed36",
   "metadata": {
    "scrolled": true
   },
   "outputs": [
    {
     "name": "stdout",
     "output_type": "stream",
     "text": [
      "········\n"
     ]
    }
   ],
   "source": [
    "password = getpass.getpass()\n",
    "connection_string = 'mysql+pymysql://root:' + password + '@localhost/sakila'\n",
    "engine = create_engine(connection_string)"
   ]
  },
  {
   "cell_type": "markdown",
   "id": "49ef4912",
   "metadata": {},
   "source": [
    "#### So first lets take a look at the sakila database to decide which film features are worth to take a deeper look at.\n",
    "#### I decided to take to following onces:\n",
    "\n",
    "- genre (category.name)\n",
    "- title (film.title)\n",
    "- length (film.length)\n",
    "- rental price (film.rental_rate)\n",
    "- rating (film.rating)\n",
    "- features (film.secial_features)\n",
    "- store (store.store_id)\n",
    "- language (language.name)"
   ]
  },
  {
   "cell_type": "code",
   "execution_count": 7,
   "id": "6e79a5f4",
   "metadata": {},
   "outputs": [
    {
     "data": {
      "text/plain": [
       "['inventory_id',\n",
       " 'film_id',\n",
       " 'store_id',\n",
       " 'last_update',\n",
       " 'film_id',\n",
       " 'title',\n",
       " 'description',\n",
       " 'release_year',\n",
       " 'language_id',\n",
       " 'original_language_id',\n",
       " 'rental_duration',\n",
       " 'rental_rate',\n",
       " 'length',\n",
       " 'replacement_cost',\n",
       " 'rating',\n",
       " 'special_features',\n",
       " 'last_update',\n",
       " 'rental_id',\n",
       " 'rental_date',\n",
       " 'inventory_id',\n",
       " 'customer_id',\n",
       " 'return_date',\n",
       " 'staff_id',\n",
       " 'last_update']"
      ]
     },
     "execution_count": 7,
     "metadata": {},
     "output_type": "execute_result"
    }
   ],
   "source": [
    "query_june_2005 = '''\n",
    "    SELECT * FROM inventory as i\n",
    "        JOIN film as f\n",
    "            ON i.film_id = f.film_id\n",
    "        JOIN rental as r\n",
    "            ON r.inventory_id = i.inventory_id\n",
    "        WHERE left(r.rental_date, 7) = '2005-06';'''\n",
    "\n",
    "\n",
    "# Execute query with pandas (SELECT ONLY)\n",
    "data = pd.read_sql_query(query_june_2005, engine)\n",
    "data.head()\n",
    "data.columns.tolist()"
   ]
  }
 ],
 "metadata": {
  "kernelspec": {
   "display_name": "Python 3 (ipykernel)",
   "language": "python",
   "name": "python3"
  },
  "language_info": {
   "codemirror_mode": {
    "name": "ipython",
    "version": 3
   },
   "file_extension": ".py",
   "mimetype": "text/x-python",
   "name": "python",
   "nbconvert_exporter": "python",
   "pygments_lexer": "ipython3",
   "version": "3.10.7"
  }
 },
 "nbformat": 4,
 "nbformat_minor": 5
}
