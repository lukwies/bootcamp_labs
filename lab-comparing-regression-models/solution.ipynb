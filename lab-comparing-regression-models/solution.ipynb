{
 "cells": [
  {
   "cell_type": "markdown",
   "id": "b15a15e6",
   "metadata": {},
   "source": [
    "# Lab | Comparing regression models\n",
    "\n",
    "\n",
    "For this lab, we will be using the same dataset we used in the previous labs. We recommend using the same notebook since you will be reusing the same variables you previous created and used in labs. "
   ]
  },
  {
   "cell_type": "code",
   "execution_count": 1,
   "id": "28e07385",
   "metadata": {},
   "outputs": [],
   "source": [
    "import pandas as pd\n",
    "import numpy as np"
   ]
  },
  {
   "cell_type": "code",
   "execution_count": 2,
   "id": "2149ecff",
   "metadata": {},
   "outputs": [],
   "source": [
    "customer_df = pd.read_csv('files_for_lab/we_fn_use_c_marketing_customer_value_analysis.csv')"
   ]
  },
  {
   "cell_type": "markdown",
   "id": "ef834ca2",
   "metadata": {},
   "source": [
    "#### Results of the last 2 labs ..."
   ]
  },
  {
   "cell_type": "code",
   "execution_count": 3,
   "id": "63829596",
   "metadata": {},
   "outputs": [],
   "source": [
    "def rename_columns(data):\n",
    "    cols = []\n",
    "    for col in data.columns:\n",
    "        cols.append(col.lower().replace(' ', '_'))\n",
    "    return cols\n",
    "customer_df.columns = rename_columns(customer_df)"
   ]
  },
  {
   "cell_type": "code",
   "execution_count": 4,
   "id": "02785af6",
   "metadata": {},
   "outputs": [],
   "source": [
    "customer_df['effective_to_date'] = pd.to_datetime(customer_df['effective_to_date'], infer_datetime_format=True)\n"
   ]
  },
  {
   "cell_type": "code",
   "execution_count": 5,
   "id": "16e07861",
   "metadata": {},
   "outputs": [
    {
     "data": {
      "text/plain": [
       "(9134, 15)"
      ]
     },
     "execution_count": 5,
     "metadata": {},
     "output_type": "execute_result"
    }
   ],
   "source": [
    "categorical_df = customer_df.select_dtypes(object)\n",
    "categorical_df.shape"
   ]
  },
  {
   "cell_type": "code",
   "execution_count": 6,
   "id": "d6df8e30",
   "metadata": {
    "scrolled": true
   },
   "outputs": [
    {
     "name": "stdout",
     "output_type": "stream",
     "text": [
      "Column: customer\n"
     ]
    },
    {
     "data": {
      "text/plain": [
       "BU79786    1\n",
       "PU81096    1\n",
       "CO75086    1\n",
       "WW52683    1\n",
       "XO38850    1\n",
       "          ..\n",
       "HS14476    1\n",
       "YL91587    1\n",
       "CT18212    1\n",
       "EW35231    1\n",
       "Y167826    1\n",
       "Name: customer, Length: 9134, dtype: int64"
      ]
     },
     "metadata": {},
     "output_type": "display_data"
    },
    {
     "name": "stdout",
     "output_type": "stream",
     "text": [
      "\n",
      "Column: state\n"
     ]
    },
    {
     "data": {
      "text/plain": [
       "California    3150\n",
       "Oregon        2601\n",
       "Arizona       1703\n",
       "Nevada         882\n",
       "Washington     798\n",
       "Name: state, dtype: int64"
      ]
     },
     "metadata": {},
     "output_type": "display_data"
    },
    {
     "name": "stdout",
     "output_type": "stream",
     "text": [
      "\n",
      "Column: response\n"
     ]
    },
    {
     "data": {
      "text/plain": [
       "No     7826\n",
       "Yes    1308\n",
       "Name: response, dtype: int64"
      ]
     },
     "metadata": {},
     "output_type": "display_data"
    },
    {
     "name": "stdout",
     "output_type": "stream",
     "text": [
      "\n",
      "Column: coverage\n"
     ]
    },
    {
     "data": {
      "text/plain": [
       "Basic       5568\n",
       "Extended    2742\n",
       "Premium      824\n",
       "Name: coverage, dtype: int64"
      ]
     },
     "metadata": {},
     "output_type": "display_data"
    },
    {
     "name": "stdout",
     "output_type": "stream",
     "text": [
      "\n",
      "Column: education\n"
     ]
    },
    {
     "data": {
      "text/plain": [
       "Bachelor                2748\n",
       "College                 2681\n",
       "High School or Below    2622\n",
       "Master                   741\n",
       "Doctor                   342\n",
       "Name: education, dtype: int64"
      ]
     },
     "metadata": {},
     "output_type": "display_data"
    },
    {
     "name": "stdout",
     "output_type": "stream",
     "text": [
      "\n",
      "Column: employmentstatus\n"
     ]
    },
    {
     "data": {
      "text/plain": [
       "Employed         5698\n",
       "Unemployed       2317\n",
       "Medical Leave     432\n",
       "Disabled          405\n",
       "Retired           282\n",
       "Name: employmentstatus, dtype: int64"
      ]
     },
     "metadata": {},
     "output_type": "display_data"
    },
    {
     "name": "stdout",
     "output_type": "stream",
     "text": [
      "\n",
      "Column: gender\n"
     ]
    },
    {
     "data": {
      "text/plain": [
       "F    4658\n",
       "M    4476\n",
       "Name: gender, dtype: int64"
      ]
     },
     "metadata": {},
     "output_type": "display_data"
    },
    {
     "name": "stdout",
     "output_type": "stream",
     "text": [
      "\n",
      "Column: location_code\n"
     ]
    },
    {
     "data": {
      "text/plain": [
       "Suburban    5779\n",
       "Rural       1773\n",
       "Urban       1582\n",
       "Name: location_code, dtype: int64"
      ]
     },
     "metadata": {},
     "output_type": "display_data"
    },
    {
     "name": "stdout",
     "output_type": "stream",
     "text": [
      "\n",
      "Column: marital_status\n"
     ]
    },
    {
     "data": {
      "text/plain": [
       "Married     5298\n",
       "Single      2467\n",
       "Divorced    1369\n",
       "Name: marital_status, dtype: int64"
      ]
     },
     "metadata": {},
     "output_type": "display_data"
    },
    {
     "name": "stdout",
     "output_type": "stream",
     "text": [
      "\n",
      "Column: policy_type\n"
     ]
    },
    {
     "data": {
      "text/plain": [
       "Personal Auto     6788\n",
       "Corporate Auto    1968\n",
       "Special Auto       378\n",
       "Name: policy_type, dtype: int64"
      ]
     },
     "metadata": {},
     "output_type": "display_data"
    },
    {
     "name": "stdout",
     "output_type": "stream",
     "text": [
      "\n",
      "Column: policy\n"
     ]
    },
    {
     "data": {
      "text/plain": [
       "Personal L3     3426\n",
       "Personal L2     2122\n",
       "Personal L1     1240\n",
       "Corporate L3    1014\n",
       "Corporate L2     595\n",
       "Corporate L1     359\n",
       "Special L2       164\n",
       "Special L3       148\n",
       "Special L1        66\n",
       "Name: policy, dtype: int64"
      ]
     },
     "metadata": {},
     "output_type": "display_data"
    },
    {
     "name": "stdout",
     "output_type": "stream",
     "text": [
      "\n",
      "Column: renew_offer_type\n"
     ]
    },
    {
     "data": {
      "text/plain": [
       "Offer1    3752\n",
       "Offer2    2926\n",
       "Offer3    1432\n",
       "Offer4    1024\n",
       "Name: renew_offer_type, dtype: int64"
      ]
     },
     "metadata": {},
     "output_type": "display_data"
    },
    {
     "name": "stdout",
     "output_type": "stream",
     "text": [
      "\n",
      "Column: sales_channel\n"
     ]
    },
    {
     "data": {
      "text/plain": [
       "Agent          3477\n",
       "Branch         2567\n",
       "Call Center    1765\n",
       "Web            1325\n",
       "Name: sales_channel, dtype: int64"
      ]
     },
     "metadata": {},
     "output_type": "display_data"
    },
    {
     "name": "stdout",
     "output_type": "stream",
     "text": [
      "\n",
      "Column: vehicle_class\n"
     ]
    },
    {
     "data": {
      "text/plain": [
       "Four-Door Car    4621\n",
       "Two-Door Car     1886\n",
       "SUV              1796\n",
       "Sports Car        484\n",
       "Luxury SUV        184\n",
       "Luxury Car        163\n",
       "Name: vehicle_class, dtype: int64"
      ]
     },
     "metadata": {},
     "output_type": "display_data"
    },
    {
     "name": "stdout",
     "output_type": "stream",
     "text": [
      "\n",
      "Column: vehicle_size\n"
     ]
    },
    {
     "data": {
      "text/plain": [
       "Medsize    6424\n",
       "Small      1764\n",
       "Large       946\n",
       "Name: vehicle_size, dtype: int64"
      ]
     },
     "metadata": {},
     "output_type": "display_data"
    },
    {
     "name": "stdout",
     "output_type": "stream",
     "text": [
      "\n"
     ]
    }
   ],
   "source": [
    "for col in categorical_df.columns:\n",
    "    print(f\"Column: {col}\")\n",
    "    display(categorical_df[col].value_counts(dropna=False))\n",
    "    print()"
   ]
  },
  {
   "cell_type": "code",
   "execution_count": 7,
   "id": "ac1e4285",
   "metadata": {
    "scrolled": true
   },
   "outputs": [
    {
     "data": {
      "text/plain": [
       "customer            object\n",
       "state               object\n",
       "response            object\n",
       "coverage            object\n",
       "education           object\n",
       "employmentstatus    object\n",
       "gender              object\n",
       "location_code       object\n",
       "marital_status      object\n",
       "policy_type         object\n",
       "policy              object\n",
       "renew_offer_type    object\n",
       "sales_channel       object\n",
       "vehicle_class       object\n",
       "vehicle_size        object\n",
       "dtype: object"
      ]
     },
     "execution_count": 7,
     "metadata": {},
     "output_type": "execute_result"
    }
   ],
   "source": [
    "categorical_df.dtypes"
   ]
  },
  {
   "cell_type": "markdown",
   "id": "eae4501f",
   "metadata": {},
   "source": [
    "So the column 'Effective To Date' doesn't make sense as categorical, so I convert it to datetime and remove it from **categorical_df**.\n"
   ]
  },
  {
   "cell_type": "code",
   "execution_count": 8,
   "id": "d5a11007",
   "metadata": {},
   "outputs": [],
   "source": [
    "customer_df['effective_to_date'] = pd.to_datetime(customer_df['effective_to_date'], infer_datetime_format=True)"
   ]
  },
  {
   "cell_type": "code",
   "execution_count": 9,
   "id": "1a12b256",
   "metadata": {
    "scrolled": false
   },
   "outputs": [],
   "source": [
    "def adjust_policy(value):\n",
    "    '''\n",
    "    Replace '... L1' to 1, '... L2' to 2 and '... L3' to 3\n",
    "    Input -> value  Value of column 'Policy'\n",
    "    Output -> 1, 2 or 3\n",
    "    '''\n",
    "    if value.find('L1') != -1:\n",
    "        return 1\n",
    "    elif value.find('L2') != -1:\n",
    "        return 2\n",
    "    else:\n",
    "        return 3\n",
    "\n",
    "# Add new numerical column named 'Policy Liability' and drop 'policy'\n",
    "customer_df['policy_liability'] = customer_df['policy'].apply(adjust_policy)\n",
    "customer_df = customer_df.drop(['policy'], axis=1)"
   ]
  },
  {
   "cell_type": "code",
   "execution_count": 10,
   "id": "b1ac7f84",
   "metadata": {},
   "outputs": [],
   "source": [
    "customer_df['renew_offer_type'] = customer_df['renew_offer_type'].replace({\n",
    "    'Offer1': 1,\n",
    "    'Offer2': 2,\n",
    "    'Offer3': 3,\n",
    "    'Offer4': 4\n",
    "})"
   ]
  },
  {
   "cell_type": "code",
   "execution_count": 11,
   "id": "3128ae74",
   "metadata": {},
   "outputs": [],
   "source": [
    "customer_df['state'] = customer_df['state'].replace({'Nevada':'Other', 'Washington':'Other'})"
   ]
  },
  {
   "cell_type": "code",
   "execution_count": 12,
   "id": "a9a90459",
   "metadata": {},
   "outputs": [],
   "source": [
    "customer_df['coverage'] = customer_df['coverage'].replace({'Premium':'Extended'})"
   ]
  },
  {
   "cell_type": "code",
   "execution_count": 13,
   "id": "a51ff52f",
   "metadata": {},
   "outputs": [],
   "source": [
    "customer_df['education'] = customer_df['education'].replace({\n",
    "    'Master':'Higher Grade',\n",
    "    'Doctor':'Higher Grade'\n",
    "})"
   ]
  },
  {
   "cell_type": "code",
   "execution_count": 14,
   "id": "fe9a4088",
   "metadata": {},
   "outputs": [],
   "source": [
    "customer_df['employmentstatus'] = customer_df['employmentstatus'].replace({\n",
    "        'Medical Leave':'Unemployed',\n",
    "        'Disabled':'Unemployed',\n",
    "        'Unemployed':'Unemployed'\n",
    "})"
   ]
  },
  {
   "cell_type": "code",
   "execution_count": 15,
   "id": "95f223cb",
   "metadata": {},
   "outputs": [],
   "source": [
    "customer_df['marital_status'] = customer_df['marital_status'].replace({\n",
    "    'Divorced':'Single'\n",
    "})"
   ]
  },
  {
   "cell_type": "code",
   "execution_count": 16,
   "id": "50d02628",
   "metadata": {
    "scrolled": true
   },
   "outputs": [],
   "source": [
    "customer_df['policy_type'] = customer_df['policy_type'].rename({'Special Auto':'Corporate Auto'})"
   ]
  },
  {
   "cell_type": "code",
   "execution_count": 17,
   "id": "f36c6ce6",
   "metadata": {},
   "outputs": [],
   "source": [
    "customer_df['vehicle_class'] = customer_df['vehicle_class'].rename({\n",
    "    'Sports Car':'Other',\n",
    "    'Luxury SUV':'Other',\n",
    "    'Luxury Car':'Other'\n",
    "})"
   ]
  },
  {
   "cell_type": "markdown",
   "id": "11b580d8",
   "metadata": {},
   "source": [
    "### Here begins the current lab..."
   ]
  },
  {
   "cell_type": "code",
   "execution_count": 18,
   "id": "4f6133a8",
   "metadata": {},
   "outputs": [],
   "source": [
    "# So I decided to remove the outliers before applying the train/test-split\n",
    "def remove_outliers(data):\n",
    "    data2 = data.copy()\n",
    "    numeric = data2.select_dtypes(np.number)\n",
    "    for col in numeric.columns:\n",
    "        if col != 'total_claim_amount':\n",
    "            iqr = np.percentile(data2[col],75) - np.percentile(data2[col],25)\n",
    "            upper_limit = np.percentile(data[col],75) + 1.5*iqr\n",
    "            lower_limit = np.percentile(data[col],25) - 1.5*iqr\n",
    "            data2 = data2[(data2[col] > lower_limit) & (data2[col] < upper_limit)]\n",
    "        return data2\n",
    "\n",
    "custumer_df = remove_outliers(customer_df)"
   ]
  },
  {
   "cell_type": "markdown",
   "id": "e8229e79",
   "metadata": {},
   "source": [
    "#### In this final lab, we will model our data. Import sklearn `train_test_split` and separate the data."
   ]
  },
  {
   "cell_type": "code",
   "execution_count": 19,
   "id": "62c957ac",
   "metadata": {},
   "outputs": [],
   "source": [
    "X = customer_df.drop(['total_claim_amount'], axis=1)\n",
    "y = customer_df['total_claim_amount']"
   ]
  },
  {
   "cell_type": "code",
   "execution_count": 20,
   "id": "677c8f2e",
   "metadata": {},
   "outputs": [],
   "source": [
    "from sklearn.model_selection import train_test_split\n",
    "\n",
    "X_train, X_test, y_train, y_test = train_test_split(X, y, test_size=0.2, random_state=0)\n",
    "\n",
    "X_train_discrete = X_train.select_dtypes(np.int64)\n",
    "X_train_continuous = X_train.select_dtypes([np.float64, np.datetime64])\n",
    "X_train_cat = X_train.select_dtypes(object)\n",
    "\n",
    "X_test_discrete = X_test.select_dtypes(np.int64)\n",
    "X_test_continuous = X_test.select_dtypes([np.float64, np.datetime64])\n",
    "X_test_cat = X_test.select_dtypes(object)"
   ]
  },
  {
   "cell_type": "markdown",
   "id": "c682411f",
   "metadata": {},
   "source": [
    "#### We will start with removing outliers, if you have not already done so.  We have discussed different methods to remove outliers. Use the one you feel more comfortable with, define a function for that. Use the function to remove the outliers and apply it to the dataframe."
   ]
  },
  {
   "cell_type": "markdown",
   "id": "52edafb4",
   "metadata": {},
   "source": [
    "Already done before splitting the data"
   ]
  },
  {
   "cell_type": "markdown",
   "id": "a8992287",
   "metadata": {},
   "source": [
    "#### The time variable can be useful. Try to transform its data into a useful one. Hint: Day week and month as integers might be useful."
   ]
  },
  {
   "cell_type": "code",
   "execution_count": 21,
   "id": "43f481e3",
   "metadata": {},
   "outputs": [],
   "source": [
    "X_train_discrete['day']   = pd.to_datetime(X_train_continuous['effective_to_date']).dt.day\n",
    "X_train_discrete['month'] = pd.to_datetime(X_train_continuous['effective_to_date']).dt.month\n",
    "X_train_discrete['year']  = pd.to_datetime(X_train_continuous['effective_to_date']).dt.year\n",
    "X_train_continuous = X_train_continuous.drop(['effective_to_date'], axis=1)\n",
    "\n",
    "X_test_discrete['day']   = pd.to_datetime(X_test_continuous['effective_to_date']).dt.day\n",
    "X_test_discrete['month'] = pd.to_datetime(X_test_continuous['effective_to_date']).dt.month\n",
    "X_test_discrete['year']  = pd.to_datetime(X_test_continuous['effective_to_date']).dt.year\n",
    "X_test_continuous = X_test_continuous.drop(['effective_to_date'], axis=1)"
   ]
  },
  {
   "cell_type": "markdown",
   "id": "f60586fd",
   "metadata": {},
   "source": [
    "#### Normalize the continuous variables. You can use any one method you want."
   ]
  },
  {
   "cell_type": "code",
   "execution_count": 22,
   "id": "6dd70d22",
   "metadata": {},
   "outputs": [],
   "source": [
    "from sklearn.preprocessing import PowerTransformer\n",
    "\n",
    "pT = PowerTransformer()\n",
    "pT.fit(X_train_continuous)\n",
    "\n",
    "X_train_continuous_trans_np = pT.transform(X_train_continuous)\n",
    "X_test_continuous_trans_np = pT.transform(X_test_continuous)\n",
    "\n",
    "\n",
    "X_train_continuous_trans = pd.DataFrame(X_train_continuous_trans_np, columns=X_train_continuous.columns,\n",
    "                                       index=X_train_continuous.index)\n",
    "X_test_continuous_trans = pd.DataFrame(X_test_continuous_trans_np, columns=X_test_continuous.columns,\n",
    "                                       index=X_test_continuous.index)"
   ]
  },
  {
   "cell_type": "markdown",
   "id": "51bdc202",
   "metadata": {},
   "source": [
    "#### Encode the categorical variables (See the hint below for encoding categorical data!!!)"
   ]
  },
  {
   "cell_type": "code",
   "execution_count": 23,
   "id": "0c976a9a",
   "metadata": {},
   "outputs": [],
   "source": [
    "def encode_categorical(data):\n",
    "    data = data.drop(['customer'], axis=1)\n",
    "    return pd.get_dummies(data, drop_first=True)\n",
    "#                          columns=['state', 'marital_status',\n",
    "#                                   'policy_type', 'sales_channel',\n",
    "#                                   'vehicle_class'],\n",
    "#                          drop_first=True)\n",
    "\n",
    "X_train_cat_encoded = encode_categorical(X_train_cat)\n",
    "X_test_cat_encoded = encode_categorical(X_test_cat)"
   ]
  },
  {
   "cell_type": "code",
   "execution_count": 24,
   "id": "4c1bdf07",
   "metadata": {},
   "outputs": [],
   "source": [
    "X_train_final = pd.concat([X_train_discrete, X_train_continuous_trans, X_train_cat_encoded], axis=1)\n",
    "X_test_final = pd.concat([X_test_discrete, X_test_continuous_trans, X_test_cat_encoded], axis=1)"
   ]
  },
  {
   "cell_type": "markdown",
   "id": "4f1a258c",
   "metadata": {},
   "source": [
    "#### Since the model will only accept numerical data, check and make sure that every column is numerical, if some are not, change it using encoding."
   ]
  },
  {
   "cell_type": "code",
   "execution_count": 25,
   "id": "ce8be263",
   "metadata": {},
   "outputs": [
    {
     "data": {
      "text/plain": [
       "income                              int64\n",
       "monthly_premium_auto                int64\n",
       "months_since_last_claim             int64\n",
       "months_since_policy_inception       int64\n",
       "number_of_open_complaints           int64\n",
       "number_of_policies                  int64\n",
       "renew_offer_type                    int64\n",
       "policy_liability                    int64\n",
       "day                                 int64\n",
       "month                               int64\n",
       "year                                int64\n",
       "customer_lifetime_value           float64\n",
       "state_California                    uint8\n",
       "state_Oregon                        uint8\n",
       "state_Other                         uint8\n",
       "response_Yes                        uint8\n",
       "coverage_Extended                   uint8\n",
       "education_College                   uint8\n",
       "education_High School or Below      uint8\n",
       "education_Higher Grade              uint8\n",
       "employmentstatus_Retired            uint8\n",
       "employmentstatus_Unemployed         uint8\n",
       "gender_M                            uint8\n",
       "location_code_Suburban              uint8\n",
       "location_code_Urban                 uint8\n",
       "marital_status_Single               uint8\n",
       "policy_type_Personal Auto           uint8\n",
       "policy_type_Special Auto            uint8\n",
       "sales_channel_Branch                uint8\n",
       "sales_channel_Call Center           uint8\n",
       "sales_channel_Web                   uint8\n",
       "vehicle_class_Luxury Car            uint8\n",
       "vehicle_class_Luxury SUV            uint8\n",
       "vehicle_class_SUV                   uint8\n",
       "vehicle_class_Sports Car            uint8\n",
       "vehicle_class_Two-Door Car          uint8\n",
       "vehicle_size_Medsize                uint8\n",
       "vehicle_size_Small                  uint8\n",
       "dtype: object"
      ]
     },
     "execution_count": 25,
     "metadata": {},
     "output_type": "execute_result"
    }
   ],
   "source": [
    "X_train_final.dtypes"
   ]
  },
  {
   "cell_type": "markdown",
   "id": "886a8852",
   "metadata": {},
   "source": [
    "#### Try a simple linear regression with all the data to see whether we are getting good results.\n",
    "\n"
   ]
  },
  {
   "cell_type": "code",
   "execution_count": 26,
   "id": "47cff39d",
   "metadata": {},
   "outputs": [
    {
     "name": "stdout",
     "output_type": "stream",
     "text": [
      "Train score: 0.7666710725006447\n",
      "Test score: 0.7531457607816229\n"
     ]
    }
   ],
   "source": [
    "from sklearn.linear_model import LinearRegression\n",
    "\n",
    "lm = LinearRegression()\n",
    "lm.fit(X_train_final, y_train)\n",
    "print(f'Train score: {lm.score(X_train_final, y_train)}')\n",
    "print(f'Test score: {lm.score(X_test_final, y_test)}')"
   ]
  },
  {
   "cell_type": "markdown",
   "id": "b8dfc266",
   "metadata": {},
   "source": [
    "#### Great! Now define a function that takes a list of models and train (and tests) them so we can try a lot of them without repeating code.\n"
   ]
  },
  {
   "cell_type": "code",
   "execution_count": 27,
   "id": "1db7d05b",
   "metadata": {},
   "outputs": [],
   "source": [
    "def train_models(list_of_models, X_train, y_train):\n",
    "    for model in list_of_models:\n",
    "        model.fit(X_train, y_train)\n",
    "    return list_of_models\n"
   ]
  },
  {
   "cell_type": "code",
   "execution_count": 28,
   "id": "918244c5",
   "metadata": {},
   "outputs": [],
   "source": [
    "from sklearn.metrics import r2_score\n",
    "\n",
    "\n",
    "def evaluate_models(list_of_models, X_train, y_train, X_test, y_test):\n",
    "    \n",
    "    train_scores = []\n",
    "    test_scores = []\n",
    "    \n",
    "    for model in list_of_models:\n",
    "        y_train_pred = model.predict(X_train)\n",
    "        train_scores.append(r2_score(y_train, y_train_pred))\n",
    "\n",
    "        y_test_pred = model.predict(X_test)\n",
    "        test_scores.append(r2_score(y_test, y_test_pred))\n",
    "        \n",
    "    return train_scores, test_scores"
   ]
  },
  {
   "cell_type": "markdown",
   "id": "d61135e2",
   "metadata": {},
   "source": [
    "#### Use the function to check `LinearRegressor` and `KNeighborsRegressor`."
   ]
  },
  {
   "cell_type": "code",
   "execution_count": 29,
   "id": "3df13564",
   "metadata": {},
   "outputs": [
    {
     "name": "stdout",
     "output_type": "stream",
     "text": [
      "Model: LinearRegression()\n",
      "    Train-Score: 0.7666710725006447\n",
      "    Test-Score:  0.7531457607816229\n",
      "Model: KNeighborsRegressor(n_neighbors=4)\n",
      "    Train-Score: 0.6546799993133535\n",
      "    Test-Score:  0.38441243903272915\n"
     ]
    }
   ],
   "source": [
    "from sklearn.neighbors import KNeighborsRegressor\n",
    "\n",
    "list_of_models = [\n",
    "    LinearRegression(),\n",
    "    KNeighborsRegressor(n_neighbors=4)\n",
    "]\n",
    "\n",
    "list_of_trained_models = train_models(list_of_models, X_train_final, y_train)\n",
    "train_scores, test_scores = evaluate_models(list_of_trained_models,\n",
    "                                            X_train_final, y_train,\n",
    "                                            X_test_final, y_test)\n",
    "for i in range(len(list_of_models)):\n",
    "    print(f'Model: {list_of_trained_models[i]}')\n",
    "    print(f'    Train-Score: {train_scores[i]}')\n",
    "    print(f'    Test-Score:  {test_scores[i]}')"
   ]
  },
  {
   "cell_type": "markdown",
   "id": "21040361",
   "metadata": {},
   "source": [
    "#### You can check also the `MLPRegressor` for this task!"
   ]
  },
  {
   "cell_type": "code",
   "execution_count": 30,
   "id": "fef300bd",
   "metadata": {},
   "outputs": [
    {
     "name": "stdout",
     "output_type": "stream",
     "text": [
      "Model: LinearRegression()\n",
      "    Train-Score: 0.7666710725006447\n",
      "    Test-Score:  0.7531457607816229\n",
      "Model: KNeighborsRegressor(n_neighbors=4)\n",
      "    Train-Score: 0.6546799993133535\n",
      "    Test-Score:  0.38441243903272915\n",
      "Model: MLPRegressor()\n",
      "    Train-Score: 0.6278612801473662\n",
      "    Test-Score:  0.6066093958148033\n"
     ]
    }
   ],
   "source": [
    "from sklearn.neural_network import MLPRegressor\n",
    "\n",
    "list_of_models.append(MLPRegressor())\n",
    "\n",
    "list_of_trained_models = train_models(list_of_models, X_train_final, y_train)\n",
    "train_scores, test_scores = evaluate_models(list_of_trained_models,\n",
    "                                            X_train_final, y_train,\n",
    "                                            X_test_final, y_test)\n",
    "for i in range(len(list_of_models)):\n",
    "    print(f'Model: {list_of_trained_models[i]}')\n",
    "    print(f'    Train-Score: {train_scores[i]}')\n",
    "    print(f'    Test-Score:  {test_scores[i]}')"
   ]
  },
  {
   "cell_type": "markdown",
   "id": "cb2fbbb4",
   "metadata": {},
   "source": [
    "#### Check and discuss the results."
   ]
  },
  {
   "cell_type": "markdown",
   "id": "388f7188",
   "metadata": {},
   "source": [
    "So our best result on the training set is 0.76 using a linear regression model and the best score on the test set\n",
    "is 0.75 with a linear regression model, too."
   ]
  }
 ],
 "metadata": {
  "kernelspec": {
   "display_name": "Python 3 (ipykernel)",
   "language": "python",
   "name": "python3"
  },
  "language_info": {
   "codemirror_mode": {
    "name": "ipython",
    "version": 3
   },
   "file_extension": ".py",
   "mimetype": "text/x-python",
   "name": "python",
   "nbconvert_exporter": "python",
   "pygments_lexer": "ipython3",
   "version": "3.10.7"
  }
 },
 "nbformat": 4,
 "nbformat_minor": 5
}
